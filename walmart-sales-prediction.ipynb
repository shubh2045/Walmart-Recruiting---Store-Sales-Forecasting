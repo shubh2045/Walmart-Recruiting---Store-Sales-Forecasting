{
 "cells": [
  {
   "cell_type": "markdown",
   "id": "af420dbc",
   "metadata": {},
   "source": [
    "# Walmart Store Sales Forecasting\n",
    "\n",
    "![](https://upload.wikimedia.org/wikipedia/commons/thumb/c/ca/Walmart_logo.svg/2560px-Walmart_logo.svg.png)\n"
   ]
  },
  {
   "cell_type": "markdown",
   "id": "bbee238d",
   "metadata": {},
   "source": [
    "<h2>1. Business Problem</h2>"
   ]
  },
  {
   "cell_type": "markdown",
   "id": "3529266a",
   "metadata": {},
   "source": [
    "<h6> Problem statement : </h6>\n",
    "<p>Predict the sales for each department in each store based on evidence from historical sales data from Walmart stores.</p>\n",
    "\n",
    "<h6> Source : </h6>\n",
    "<p></p>\n",
    "\n",
    "https://www.kaggle.com/c/walmart-recruiting-store-sales-forecasting/overview/description\n",
    "\n",
    "<h6> Description : </h6>\n",
    "<p>One challenge of modeling retail data is the need to make decisions based on limited history. If Christmas comes but once a year, so does the chance to see how strategic decisions impacted the bottom line.</p>\n",
    "<p> To add to the challenge, selected holiday markdown events are included in the dataset. These markdowns are known to affect sales, and it is challenging to predict which departments are affected and the extent of the impact.</p>"
   ]
  },
  {
   "cell_type": "markdown",
   "id": "effdd2dc",
   "metadata": {},
   "source": [
    "<h2>2. Machine Learning Problem Formulation</h2>"
   ]
  },
  {
   "cell_type": "markdown",
   "id": "8bc6c321",
   "metadata": {},
   "source": [
    "<h6> Data Overview : </h6>"
   ]
  },
  {
   "cell_type": "markdown",
   "id": "d0d0c6e8",
   "metadata": {},
   "source": [
    "- Source: https://www.kaggle.com/c/walmart-recruiting-store-sales-forecasting/data\n",
    "- We are provided with historical sales data for 45 Walmart stores located in different regions. \n",
    "- store.csv: Anonymized information about the 45 stores, indicating the type and size of store.\n",
    "- train.csv: Historical training data, which covers to 2010-02-05 to 2012-11-01.\n",
    "- test.csv:  Identical to train.csv, except we have withheld the weekly sales. we must predict the sales for each triplet of store, department, and date in this file.\n",
    "- features.csv: Additional data related to the store, department, and regional activity for the given dates.\n",
    "- The four holidays fall within the following weeks in the dataset (not all holidays are in the data):\n",
    "<ul> \n",
    "    <li>\n",
    "    Super Bowl: 12-Feb-10, 11-Feb-11, 10-Feb-12, 8-Feb-13\n",
    "    </li>\n",
    "    <li>\n",
    "    Labor Day: 10-Sep-10, 9-Sep-11, 7-Sep-12, 6-Sep-13\n",
    "    </li>\n",
    "    <li>\n",
    "    Thanksgiving: 26-Nov-10, 25-Nov-11, 23-Nov-12, 29-Nov-13\n",
    "    </li>\n",
    "    <li>\n",
    "    Christmas: 31-Dec-10, 30-Dec-11, 28-Dec-12, 27-Dec-13\n",
    "    </li>\n",
    "</ul>\n"
   ]
  },
  {
   "cell_type": "markdown",
   "id": "f4a21e86",
   "metadata": {},
   "source": [
    "<h6> Type of ML Problem : </h6>\n",
    "<p> This is clearly going to be a regression problem.</p>\n",
    "\n",
    "<h6> KPI : </h6>\n",
    "<p></p>\n",
    "- Source: https://www.kaggle.com/c/walmart-recruiting-store-sales-forecasting/overview/evaluation\n",
    "- Metric(s):\n",
    " weighted mean absolute error (WMAE):\n",
    " \n",
    "<h6> Objectice : </h6>\n",
    "<p>Predict the sales for each department in each store.</p>"
   ]
  },
  {
   "cell_type": "markdown",
   "id": "4e80c46b",
   "metadata": {},
   "source": [
    "<h2>3. Exploratory Data Analysis</h2>"
   ]
  },
  {
   "cell_type": "code",
   "execution_count": 1,
   "id": "fabec12d",
   "metadata": {},
   "outputs": [],
   "source": [
    "# importing all required packages\n",
    "\n",
    "import pandas as pd\n",
    "import matplotlib.pyplot as plt\n",
    "import numpy as np\n",
    "import time\n",
    "from sklearn.preprocessing import MinMaxScaler, OneHotEncoder\n",
    "import seaborn as sns\n",
    "from sklearn.metrics import accuracy_score\n",
    "from sklearn.model_selection import train_test_split\n",
    "import math"
   ]
  },
  {
   "cell_type": "markdown",
   "id": "63be7081",
   "metadata": {},
   "source": [
    "<h3>3.1 Reading Data</h3>"
   ]
  },
  {
   "cell_type": "code",
   "execution_count": 2,
   "id": "2a4efb09",
   "metadata": {
    "scrolled": false
   },
   "outputs": [
    {
     "name": "stdout",
     "output_type": "stream",
     "text": [
      "Number of data points :  421570\n",
      "Number of features :  5\n",
      "Features :  ['Store' 'Dept' 'Date' 'Weekly_Sales' 'IsHoliday']\n"
     ]
    },
    {
     "data": {
      "text/html": [
       "<div>\n",
       "<style scoped>\n",
       "    .dataframe tbody tr th:only-of-type {\n",
       "        vertical-align: middle;\n",
       "    }\n",
       "\n",
       "    .dataframe tbody tr th {\n",
       "        vertical-align: top;\n",
       "    }\n",
       "\n",
       "    .dataframe thead th {\n",
       "        text-align: right;\n",
       "    }\n",
       "</style>\n",
       "<table border=\"1\" class=\"dataframe\">\n",
       "  <thead>\n",
       "    <tr style=\"text-align: right;\">\n",
       "      <th></th>\n",
       "      <th>Store</th>\n",
       "      <th>Dept</th>\n",
       "      <th>Date</th>\n",
       "      <th>Weekly_Sales</th>\n",
       "      <th>IsHoliday</th>\n",
       "    </tr>\n",
       "  </thead>\n",
       "  <tbody>\n",
       "    <tr>\n",
       "      <th>0</th>\n",
       "      <td>1</td>\n",
       "      <td>1</td>\n",
       "      <td>2010-02-05</td>\n",
       "      <td>24924.50</td>\n",
       "      <td>False</td>\n",
       "    </tr>\n",
       "    <tr>\n",
       "      <th>1</th>\n",
       "      <td>1</td>\n",
       "      <td>1</td>\n",
       "      <td>2010-02-12</td>\n",
       "      <td>46039.49</td>\n",
       "      <td>True</td>\n",
       "    </tr>\n",
       "    <tr>\n",
       "      <th>2</th>\n",
       "      <td>1</td>\n",
       "      <td>1</td>\n",
       "      <td>2010-02-19</td>\n",
       "      <td>41595.55</td>\n",
       "      <td>False</td>\n",
       "    </tr>\n",
       "    <tr>\n",
       "      <th>3</th>\n",
       "      <td>1</td>\n",
       "      <td>1</td>\n",
       "      <td>2010-02-26</td>\n",
       "      <td>19403.54</td>\n",
       "      <td>False</td>\n",
       "    </tr>\n",
       "    <tr>\n",
       "      <th>4</th>\n",
       "      <td>1</td>\n",
       "      <td>1</td>\n",
       "      <td>2010-03-05</td>\n",
       "      <td>21827.90</td>\n",
       "      <td>False</td>\n",
       "    </tr>\n",
       "  </tbody>\n",
       "</table>\n",
       "</div>"
      ],
      "text/plain": [
       "   Store  Dept        Date  Weekly_Sales  IsHoliday\n",
       "0      1     1  2010-02-05      24924.50      False\n",
       "1      1     1  2010-02-12      46039.49       True\n",
       "2      1     1  2010-02-19      41595.55      False\n",
       "3      1     1  2010-02-26      19403.54      False\n",
       "4      1     1  2010-03-05      21827.90      False"
      ]
     },
     "execution_count": 2,
     "metadata": {},
     "output_type": "execute_result"
    }
   ],
   "source": [
    "# reading training data\n",
    "\n",
    "train_df = pd.read_csv('train.csv')\n",
    "print('Number of data points : ', train_df.shape[0])\n",
    "print('Number of features : ', train_df.shape[1])\n",
    "print('Features : ', train_df.columns.values)\n",
    "train_df.head()"
   ]
  },
  {
   "cell_type": "code",
   "execution_count": 3,
   "id": "aba21728",
   "metadata": {},
   "outputs": [
    {
     "name": "stdout",
     "output_type": "stream",
     "text": [
      "Number of data points :  115064\n",
      "Number of features :  4\n",
      "Features :  ['Store' 'Dept' 'Date' 'IsHoliday']\n"
     ]
    },
    {
     "data": {
      "text/html": [
       "<div>\n",
       "<style scoped>\n",
       "    .dataframe tbody tr th:only-of-type {\n",
       "        vertical-align: middle;\n",
       "    }\n",
       "\n",
       "    .dataframe tbody tr th {\n",
       "        vertical-align: top;\n",
       "    }\n",
       "\n",
       "    .dataframe thead th {\n",
       "        text-align: right;\n",
       "    }\n",
       "</style>\n",
       "<table border=\"1\" class=\"dataframe\">\n",
       "  <thead>\n",
       "    <tr style=\"text-align: right;\">\n",
       "      <th></th>\n",
       "      <th>Store</th>\n",
       "      <th>Dept</th>\n",
       "      <th>Date</th>\n",
       "      <th>IsHoliday</th>\n",
       "    </tr>\n",
       "  </thead>\n",
       "  <tbody>\n",
       "    <tr>\n",
       "      <th>0</th>\n",
       "      <td>1</td>\n",
       "      <td>1</td>\n",
       "      <td>2012-11-02</td>\n",
       "      <td>False</td>\n",
       "    </tr>\n",
       "    <tr>\n",
       "      <th>1</th>\n",
       "      <td>1</td>\n",
       "      <td>1</td>\n",
       "      <td>2012-11-09</td>\n",
       "      <td>False</td>\n",
       "    </tr>\n",
       "    <tr>\n",
       "      <th>2</th>\n",
       "      <td>1</td>\n",
       "      <td>1</td>\n",
       "      <td>2012-11-16</td>\n",
       "      <td>False</td>\n",
       "    </tr>\n",
       "    <tr>\n",
       "      <th>3</th>\n",
       "      <td>1</td>\n",
       "      <td>1</td>\n",
       "      <td>2012-11-23</td>\n",
       "      <td>True</td>\n",
       "    </tr>\n",
       "    <tr>\n",
       "      <th>4</th>\n",
       "      <td>1</td>\n",
       "      <td>1</td>\n",
       "      <td>2012-11-30</td>\n",
       "      <td>False</td>\n",
       "    </tr>\n",
       "  </tbody>\n",
       "</table>\n",
       "</div>"
      ],
      "text/plain": [
       "   Store  Dept        Date  IsHoliday\n",
       "0      1     1  2012-11-02      False\n",
       "1      1     1  2012-11-09      False\n",
       "2      1     1  2012-11-16      False\n",
       "3      1     1  2012-11-23       True\n",
       "4      1     1  2012-11-30      False"
      ]
     },
     "execution_count": 3,
     "metadata": {},
     "output_type": "execute_result"
    }
   ],
   "source": [
    "# reading test data\n",
    "\n",
    "test_df = pd.read_csv('test.csv')\n",
    "print('Number of data points : ', test_df.shape[0])\n",
    "print('Number of features : ', test_df.shape[1])\n",
    "print('Features : ', test_df.columns.values)\n",
    "test_df.head()"
   ]
  },
  {
   "cell_type": "code",
   "execution_count": 4,
   "id": "a2fb454d",
   "metadata": {},
   "outputs": [
    {
     "name": "stdout",
     "output_type": "stream",
     "text": [
      "Number of data points :  45\n",
      "Number of features :  3\n",
      "Features :  ['Store' 'Type' 'Size']\n"
     ]
    },
    {
     "data": {
      "text/html": [
       "<div>\n",
       "<style scoped>\n",
       "    .dataframe tbody tr th:only-of-type {\n",
       "        vertical-align: middle;\n",
       "    }\n",
       "\n",
       "    .dataframe tbody tr th {\n",
       "        vertical-align: top;\n",
       "    }\n",
       "\n",
       "    .dataframe thead th {\n",
       "        text-align: right;\n",
       "    }\n",
       "</style>\n",
       "<table border=\"1\" class=\"dataframe\">\n",
       "  <thead>\n",
       "    <tr style=\"text-align: right;\">\n",
       "      <th></th>\n",
       "      <th>Store</th>\n",
       "      <th>Type</th>\n",
       "      <th>Size</th>\n",
       "    </tr>\n",
       "  </thead>\n",
       "  <tbody>\n",
       "    <tr>\n",
       "      <th>0</th>\n",
       "      <td>1</td>\n",
       "      <td>A</td>\n",
       "      <td>151315</td>\n",
       "    </tr>\n",
       "    <tr>\n",
       "      <th>1</th>\n",
       "      <td>2</td>\n",
       "      <td>A</td>\n",
       "      <td>202307</td>\n",
       "    </tr>\n",
       "    <tr>\n",
       "      <th>2</th>\n",
       "      <td>3</td>\n",
       "      <td>B</td>\n",
       "      <td>37392</td>\n",
       "    </tr>\n",
       "    <tr>\n",
       "      <th>3</th>\n",
       "      <td>4</td>\n",
       "      <td>A</td>\n",
       "      <td>205863</td>\n",
       "    </tr>\n",
       "    <tr>\n",
       "      <th>4</th>\n",
       "      <td>5</td>\n",
       "      <td>B</td>\n",
       "      <td>34875</td>\n",
       "    </tr>\n",
       "  </tbody>\n",
       "</table>\n",
       "</div>"
      ],
      "text/plain": [
       "   Store Type    Size\n",
       "0      1    A  151315\n",
       "1      2    A  202307\n",
       "2      3    B   37392\n",
       "3      4    A  205863\n",
       "4      5    B   34875"
      ]
     },
     "execution_count": 4,
     "metadata": {},
     "output_type": "execute_result"
    }
   ],
   "source": [
    "# reading store data\n",
    "\n",
    "store_df = pd.read_csv('stores.csv')\n",
    "print('Number of data points : ', store_df.shape[0])\n",
    "print('Number of features : ', store_df.shape[1])\n",
    "print('Features : ', store_df.columns.values)\n",
    "store_df.head()"
   ]
  },
  {
   "cell_type": "code",
   "execution_count": 5,
   "id": "09b9c0f9",
   "metadata": {},
   "outputs": [
    {
     "name": "stdout",
     "output_type": "stream",
     "text": [
      "Number of data points :  8190\n",
      "Number of features :  12\n",
      "Features :  ['Store' 'Date' 'Temperature' 'Fuel_Price' 'MarkDown1' 'MarkDown2'\n",
      " 'MarkDown3' 'MarkDown4' 'MarkDown5' 'CPI' 'Unemployment' 'IsHoliday']\n"
     ]
    },
    {
     "data": {
      "text/html": [
       "<div>\n",
       "<style scoped>\n",
       "    .dataframe tbody tr th:only-of-type {\n",
       "        vertical-align: middle;\n",
       "    }\n",
       "\n",
       "    .dataframe tbody tr th {\n",
       "        vertical-align: top;\n",
       "    }\n",
       "\n",
       "    .dataframe thead th {\n",
       "        text-align: right;\n",
       "    }\n",
       "</style>\n",
       "<table border=\"1\" class=\"dataframe\">\n",
       "  <thead>\n",
       "    <tr style=\"text-align: right;\">\n",
       "      <th></th>\n",
       "      <th>Store</th>\n",
       "      <th>Date</th>\n",
       "      <th>Temperature</th>\n",
       "      <th>Fuel_Price</th>\n",
       "      <th>MarkDown1</th>\n",
       "      <th>MarkDown2</th>\n",
       "      <th>MarkDown3</th>\n",
       "      <th>MarkDown4</th>\n",
       "      <th>MarkDown5</th>\n",
       "      <th>CPI</th>\n",
       "      <th>Unemployment</th>\n",
       "      <th>IsHoliday</th>\n",
       "    </tr>\n",
       "  </thead>\n",
       "  <tbody>\n",
       "    <tr>\n",
       "      <th>0</th>\n",
       "      <td>1</td>\n",
       "      <td>2010-02-05</td>\n",
       "      <td>42.31</td>\n",
       "      <td>2.572</td>\n",
       "      <td>NaN</td>\n",
       "      <td>NaN</td>\n",
       "      <td>NaN</td>\n",
       "      <td>NaN</td>\n",
       "      <td>NaN</td>\n",
       "      <td>211.096358</td>\n",
       "      <td>8.106</td>\n",
       "      <td>False</td>\n",
       "    </tr>\n",
       "    <tr>\n",
       "      <th>1</th>\n",
       "      <td>1</td>\n",
       "      <td>2010-02-12</td>\n",
       "      <td>38.51</td>\n",
       "      <td>2.548</td>\n",
       "      <td>NaN</td>\n",
       "      <td>NaN</td>\n",
       "      <td>NaN</td>\n",
       "      <td>NaN</td>\n",
       "      <td>NaN</td>\n",
       "      <td>211.242170</td>\n",
       "      <td>8.106</td>\n",
       "      <td>True</td>\n",
       "    </tr>\n",
       "    <tr>\n",
       "      <th>2</th>\n",
       "      <td>1</td>\n",
       "      <td>2010-02-19</td>\n",
       "      <td>39.93</td>\n",
       "      <td>2.514</td>\n",
       "      <td>NaN</td>\n",
       "      <td>NaN</td>\n",
       "      <td>NaN</td>\n",
       "      <td>NaN</td>\n",
       "      <td>NaN</td>\n",
       "      <td>211.289143</td>\n",
       "      <td>8.106</td>\n",
       "      <td>False</td>\n",
       "    </tr>\n",
       "    <tr>\n",
       "      <th>3</th>\n",
       "      <td>1</td>\n",
       "      <td>2010-02-26</td>\n",
       "      <td>46.63</td>\n",
       "      <td>2.561</td>\n",
       "      <td>NaN</td>\n",
       "      <td>NaN</td>\n",
       "      <td>NaN</td>\n",
       "      <td>NaN</td>\n",
       "      <td>NaN</td>\n",
       "      <td>211.319643</td>\n",
       "      <td>8.106</td>\n",
       "      <td>False</td>\n",
       "    </tr>\n",
       "    <tr>\n",
       "      <th>4</th>\n",
       "      <td>1</td>\n",
       "      <td>2010-03-05</td>\n",
       "      <td>46.50</td>\n",
       "      <td>2.625</td>\n",
       "      <td>NaN</td>\n",
       "      <td>NaN</td>\n",
       "      <td>NaN</td>\n",
       "      <td>NaN</td>\n",
       "      <td>NaN</td>\n",
       "      <td>211.350143</td>\n",
       "      <td>8.106</td>\n",
       "      <td>False</td>\n",
       "    </tr>\n",
       "  </tbody>\n",
       "</table>\n",
       "</div>"
      ],
      "text/plain": [
       "   Store        Date  Temperature  Fuel_Price  MarkDown1  MarkDown2  \\\n",
       "0      1  2010-02-05        42.31       2.572        NaN        NaN   \n",
       "1      1  2010-02-12        38.51       2.548        NaN        NaN   \n",
       "2      1  2010-02-19        39.93       2.514        NaN        NaN   \n",
       "3      1  2010-02-26        46.63       2.561        NaN        NaN   \n",
       "4      1  2010-03-05        46.50       2.625        NaN        NaN   \n",
       "\n",
       "   MarkDown3  MarkDown4  MarkDown5         CPI  Unemployment  IsHoliday  \n",
       "0        NaN        NaN        NaN  211.096358         8.106      False  \n",
       "1        NaN        NaN        NaN  211.242170         8.106       True  \n",
       "2        NaN        NaN        NaN  211.289143         8.106      False  \n",
       "3        NaN        NaN        NaN  211.319643         8.106      False  \n",
       "4        NaN        NaN        NaN  211.350143         8.106      False  "
      ]
     },
     "execution_count": 5,
     "metadata": {},
     "output_type": "execute_result"
    }
   ],
   "source": [
    "# reading feature data\n",
    "\n",
    "features_df = pd.read_csv('features.csv')\n",
    "print('Number of data points : ', features_df.shape[0])\n",
    "print('Number of features : ', features_df.shape[1])\n",
    "print('Features : ', features_df.columns.values)\n",
    "features_df.head()"
   ]
  },
  {
   "cell_type": "code",
   "execution_count": 6,
   "id": "be25aaf0",
   "metadata": {},
   "outputs": [
    {
     "name": "stdout",
     "output_type": "stream",
     "text": [
      "Number of data points :  115064\n",
      "Number of features :  2\n",
      "Features :  ['Id' 'Weekly_Sales']\n"
     ]
    },
    {
     "data": {
      "text/html": [
       "<div>\n",
       "<style scoped>\n",
       "    .dataframe tbody tr th:only-of-type {\n",
       "        vertical-align: middle;\n",
       "    }\n",
       "\n",
       "    .dataframe tbody tr th {\n",
       "        vertical-align: top;\n",
       "    }\n",
       "\n",
       "    .dataframe thead th {\n",
       "        text-align: right;\n",
       "    }\n",
       "</style>\n",
       "<table border=\"1\" class=\"dataframe\">\n",
       "  <thead>\n",
       "    <tr style=\"text-align: right;\">\n",
       "      <th></th>\n",
       "      <th>Id</th>\n",
       "      <th>Weekly_Sales</th>\n",
       "    </tr>\n",
       "  </thead>\n",
       "  <tbody>\n",
       "    <tr>\n",
       "      <th>0</th>\n",
       "      <td>1_1_2012-11-02</td>\n",
       "      <td>0</td>\n",
       "    </tr>\n",
       "    <tr>\n",
       "      <th>1</th>\n",
       "      <td>1_1_2012-11-09</td>\n",
       "      <td>0</td>\n",
       "    </tr>\n",
       "    <tr>\n",
       "      <th>2</th>\n",
       "      <td>1_1_2012-11-16</td>\n",
       "      <td>0</td>\n",
       "    </tr>\n",
       "    <tr>\n",
       "      <th>3</th>\n",
       "      <td>1_1_2012-11-23</td>\n",
       "      <td>0</td>\n",
       "    </tr>\n",
       "    <tr>\n",
       "      <th>4</th>\n",
       "      <td>1_1_2012-11-30</td>\n",
       "      <td>0</td>\n",
       "    </tr>\n",
       "  </tbody>\n",
       "</table>\n",
       "</div>"
      ],
      "text/plain": [
       "               Id  Weekly_Sales\n",
       "0  1_1_2012-11-02             0\n",
       "1  1_1_2012-11-09             0\n",
       "2  1_1_2012-11-16             0\n",
       "3  1_1_2012-11-23             0\n",
       "4  1_1_2012-11-30             0"
      ]
     },
     "execution_count": 6,
     "metadata": {},
     "output_type": "execute_result"
    }
   ],
   "source": [
    "# reading submission data\n",
    "\n",
    "sampleSubmission_df = pd.read_csv('sampleSubmission.csv')\n",
    "print('Number of data points : ', sampleSubmission_df.shape[0])\n",
    "print('Number of features : ', sampleSubmission_df.shape[1])\n",
    "print('Features : ', sampleSubmission_df.columns.values)\n",
    "sampleSubmission_df.head()"
   ]
  },
  {
   "cell_type": "markdown",
   "id": "15af8a5c",
   "metadata": {},
   "source": [
    "As store_df has more sense of data, let's merge the information from `features_df` into `train_df`.\n",
    "We are going to use outer left join."
   ]
  },
  {
   "cell_type": "code",
   "execution_count": 7,
   "id": "bfc9e9b5",
   "metadata": {},
   "outputs": [],
   "source": [
    "feature_store = features_df.merge(store_df, how='inner', on = \"Store\")"
   ]
  },
  {
   "cell_type": "code",
   "execution_count": 8,
   "id": "7d1b0aa6",
   "metadata": {},
   "outputs": [
    {
     "data": {
      "text/html": [
       "<div>\n",
       "<style scoped>\n",
       "    .dataframe tbody tr th:only-of-type {\n",
       "        vertical-align: middle;\n",
       "    }\n",
       "\n",
       "    .dataframe tbody tr th {\n",
       "        vertical-align: top;\n",
       "    }\n",
       "\n",
       "    .dataframe thead th {\n",
       "        text-align: right;\n",
       "    }\n",
       "</style>\n",
       "<table border=\"1\" class=\"dataframe\">\n",
       "  <thead>\n",
       "    <tr style=\"text-align: right;\">\n",
       "      <th></th>\n",
       "      <th>Store</th>\n",
       "      <th>Dept</th>\n",
       "      <th>Date</th>\n",
       "      <th>Weekly_Sales</th>\n",
       "      <th>IsHoliday</th>\n",
       "      <th>Temperature</th>\n",
       "      <th>Fuel_Price</th>\n",
       "      <th>MarkDown1</th>\n",
       "      <th>MarkDown2</th>\n",
       "      <th>MarkDown3</th>\n",
       "      <th>MarkDown4</th>\n",
       "      <th>MarkDown5</th>\n",
       "      <th>CPI</th>\n",
       "      <th>Unemployment</th>\n",
       "      <th>Type</th>\n",
       "      <th>Size</th>\n",
       "    </tr>\n",
       "  </thead>\n",
       "  <tbody>\n",
       "    <tr>\n",
       "      <th>0</th>\n",
       "      <td>1</td>\n",
       "      <td>1</td>\n",
       "      <td>2010-02-05</td>\n",
       "      <td>24924.50</td>\n",
       "      <td>False</td>\n",
       "      <td>42.31</td>\n",
       "      <td>2.572</td>\n",
       "      <td>NaN</td>\n",
       "      <td>NaN</td>\n",
       "      <td>NaN</td>\n",
       "      <td>NaN</td>\n",
       "      <td>NaN</td>\n",
       "      <td>211.096358</td>\n",
       "      <td>8.106</td>\n",
       "      <td>A</td>\n",
       "      <td>151315</td>\n",
       "    </tr>\n",
       "    <tr>\n",
       "      <th>1</th>\n",
       "      <td>1</td>\n",
       "      <td>2</td>\n",
       "      <td>2010-02-05</td>\n",
       "      <td>50605.27</td>\n",
       "      <td>False</td>\n",
       "      <td>42.31</td>\n",
       "      <td>2.572</td>\n",
       "      <td>NaN</td>\n",
       "      <td>NaN</td>\n",
       "      <td>NaN</td>\n",
       "      <td>NaN</td>\n",
       "      <td>NaN</td>\n",
       "      <td>211.096358</td>\n",
       "      <td>8.106</td>\n",
       "      <td>A</td>\n",
       "      <td>151315</td>\n",
       "    </tr>\n",
       "    <tr>\n",
       "      <th>2</th>\n",
       "      <td>1</td>\n",
       "      <td>3</td>\n",
       "      <td>2010-02-05</td>\n",
       "      <td>13740.12</td>\n",
       "      <td>False</td>\n",
       "      <td>42.31</td>\n",
       "      <td>2.572</td>\n",
       "      <td>NaN</td>\n",
       "      <td>NaN</td>\n",
       "      <td>NaN</td>\n",
       "      <td>NaN</td>\n",
       "      <td>NaN</td>\n",
       "      <td>211.096358</td>\n",
       "      <td>8.106</td>\n",
       "      <td>A</td>\n",
       "      <td>151315</td>\n",
       "    </tr>\n",
       "    <tr>\n",
       "      <th>3</th>\n",
       "      <td>1</td>\n",
       "      <td>4</td>\n",
       "      <td>2010-02-05</td>\n",
       "      <td>39954.04</td>\n",
       "      <td>False</td>\n",
       "      <td>42.31</td>\n",
       "      <td>2.572</td>\n",
       "      <td>NaN</td>\n",
       "      <td>NaN</td>\n",
       "      <td>NaN</td>\n",
       "      <td>NaN</td>\n",
       "      <td>NaN</td>\n",
       "      <td>211.096358</td>\n",
       "      <td>8.106</td>\n",
       "      <td>A</td>\n",
       "      <td>151315</td>\n",
       "    </tr>\n",
       "    <tr>\n",
       "      <th>4</th>\n",
       "      <td>1</td>\n",
       "      <td>5</td>\n",
       "      <td>2010-02-05</td>\n",
       "      <td>32229.38</td>\n",
       "      <td>False</td>\n",
       "      <td>42.31</td>\n",
       "      <td>2.572</td>\n",
       "      <td>NaN</td>\n",
       "      <td>NaN</td>\n",
       "      <td>NaN</td>\n",
       "      <td>NaN</td>\n",
       "      <td>NaN</td>\n",
       "      <td>211.096358</td>\n",
       "      <td>8.106</td>\n",
       "      <td>A</td>\n",
       "      <td>151315</td>\n",
       "    </tr>\n",
       "  </tbody>\n",
       "</table>\n",
       "</div>"
      ],
      "text/plain": [
       "   Store  Dept        Date  Weekly_Sales  IsHoliday  Temperature  Fuel_Price  \\\n",
       "0      1     1  2010-02-05      24924.50      False        42.31       2.572   \n",
       "1      1     2  2010-02-05      50605.27      False        42.31       2.572   \n",
       "2      1     3  2010-02-05      13740.12      False        42.31       2.572   \n",
       "3      1     4  2010-02-05      39954.04      False        42.31       2.572   \n",
       "4      1     5  2010-02-05      32229.38      False        42.31       2.572   \n",
       "\n",
       "   MarkDown1  MarkDown2  MarkDown3  MarkDown4  MarkDown5         CPI  \\\n",
       "0        NaN        NaN        NaN        NaN        NaN  211.096358   \n",
       "1        NaN        NaN        NaN        NaN        NaN  211.096358   \n",
       "2        NaN        NaN        NaN        NaN        NaN  211.096358   \n",
       "3        NaN        NaN        NaN        NaN        NaN  211.096358   \n",
       "4        NaN        NaN        NaN        NaN        NaN  211.096358   \n",
       "\n",
       "   Unemployment Type    Size  \n",
       "0         8.106    A  151315  \n",
       "1         8.106    A  151315  \n",
       "2         8.106    A  151315  \n",
       "3         8.106    A  151315  \n",
       "4         8.106    A  151315  "
      ]
     },
     "execution_count": 8,
     "metadata": {},
     "output_type": "execute_result"
    }
   ],
   "source": [
    "train = train_df.merge(feature_store, how='inner', on=['Store','Date','IsHoliday'])\n",
    "test = test_df.merge(feature_store, how='inner', on=['Store','Date','IsHoliday'])\n",
    "train.head(5)"
   ]
  },
  {
   "cell_type": "code",
   "execution_count": 9,
   "id": "140a7beb",
   "metadata": {},
   "outputs": [
    {
     "data": {
      "text/plain": [
       "((421570, 16), (115064, 15))"
      ]
     },
     "execution_count": 9,
     "metadata": {},
     "output_type": "execute_result"
    }
   ],
   "source": [
    "train.shape, test.shape"
   ]
  },
  {
   "cell_type": "code",
   "execution_count": 10,
   "id": "5ffd8a0e",
   "metadata": {},
   "outputs": [
    {
     "data": {
      "text/plain": [
       "False    391909\n",
       "True      29661\n",
       "Name: IsHoliday, dtype: int64"
      ]
     },
     "execution_count": 10,
     "metadata": {},
     "output_type": "execute_result"
    }
   ],
   "source": [
    "train['IsHoliday'].value_counts()"
   ]
  },
  {
   "cell_type": "code",
   "execution_count": 11,
   "id": "ea3bd625",
   "metadata": {
    "scrolled": false
   },
   "outputs": [
    {
     "data": {
      "text/plain": [
       "Store                0\n",
       "Dept                 0\n",
       "Date                 0\n",
       "Weekly_Sales         0\n",
       "IsHoliday            0\n",
       "Temperature          0\n",
       "Fuel_Price           0\n",
       "MarkDown1       270889\n",
       "MarkDown2       310322\n",
       "MarkDown3       284479\n",
       "MarkDown4       286603\n",
       "MarkDown5       270138\n",
       "CPI                  0\n",
       "Unemployment         0\n",
       "Type                 0\n",
       "Size                 0\n",
       "dtype: int64"
      ]
     },
     "execution_count": 11,
     "metadata": {},
     "output_type": "execute_result"
    }
   ],
   "source": [
    "train.isna().sum()"
   ]
  },
  {
   "cell_type": "code",
   "execution_count": 12,
   "id": "74fa8d17",
   "metadata": {},
   "outputs": [
    {
     "data": {
      "text/plain": [
       "Store               45\n",
       "Dept                81\n",
       "Date               143\n",
       "Weekly_Sales    359464\n",
       "IsHoliday            2\n",
       "Temperature       3528\n",
       "Fuel_Price         892\n",
       "MarkDown1         2277\n",
       "MarkDown2         1499\n",
       "MarkDown3         1662\n",
       "MarkDown4         1944\n",
       "MarkDown5         2293\n",
       "CPI               2145\n",
       "Unemployment       349\n",
       "Type                 3\n",
       "Size                40\n",
       "dtype: int64"
      ]
     },
     "execution_count": 12,
     "metadata": {},
     "output_type": "execute_result"
    }
   ],
   "source": [
    "counts = train.nunique()\n",
    "counts"
   ]
  },
  {
   "cell_type": "code",
   "execution_count": 13,
   "id": "c27138c2",
   "metadata": {},
   "outputs": [
    {
     "data": {
      "text/plain": [
       "<AxesSubplot:>"
      ]
     },
     "execution_count": 13,
     "metadata": {},
     "output_type": "execute_result"
    },
    {
     "data": {
      "image/png": "[encoded data removed]",
      "text/plain": [
       "<Figure size 1440x1080 with 2 Axes>"
      ]
     },
     "metadata": {
      "needs_background": "light"
     },
     "output_type": "display_data"
    }
   ],
   "source": [
    "#drawing correlation matrix\n",
    "corr = train.corr()\n",
    "plt.figure(figsize=(20,15))\n",
    "sns.heatmap(corr,annot = True, cmap='Blues')"
   ]
  },
  {
   "cell_type": "markdown",
   "id": "e5eff3c6",
   "metadata": {},
   "source": [
    "<h4>Observations :</h4>\n",
    "<p></p>\n",
    "\n",
    "1. None of the features has NaN values except for Markdown features. \n",
    "2. `Markdown` features have lot of NaN values and hence we can drop them.\n",
    "3. `CPI` has very low correlation with weekly sales and hence does not have any impact on weekly sales. \n",
    "4. Same is applicable for `Temperature`, `Unemployment` and `Fuel_Price`.\n",
    "5. We can see little correlation between `Size` and weekly sales."
   ]
  },
  {
   "cell_type": "markdown",
   "id": "972eb63c",
   "metadata": {},
   "source": [
    "<h3>3.2 Data Cleaning</h3>"
   ]
  },
  {
   "cell_type": "markdown",
   "id": "e6054367",
   "metadata": {},
   "source": [
    "<h4>Date</h4>\n",
    "\n",
    "We can split date into Day, Year and Months and then it will make more sense of data. First, let's convert `Date` to a `datecolumn` and extract different parts of the date."
   ]
  },
  {
   "cell_type": "code",
   "execution_count": 14,
   "id": "bb2747d6",
   "metadata": {},
   "outputs": [],
   "source": [
    "def split_date(df):\n",
    "    df['Date'] = pd.to_datetime(df['Date'])\n",
    "    df['Year'] = df.Date.dt.year\n",
    "    df['Month'] = df.Date.dt.month\n",
    "    df['Day'] = df.Date.dt.day\n",
    "    df['WeekOfYear'] = df.Date.dt.isocalendar().week\n",
    "    df = df.drop(['Date'], axis=1, inplace=True)"
   ]
  },
  {
   "cell_type": "code",
   "execution_count": 15,
   "id": "cefad669",
   "metadata": {},
   "outputs": [],
   "source": [
    "split_date(train)\n",
    "split_date(test)"
   ]
  },
  {
   "cell_type": "code",
   "execution_count": 16,
   "id": "e8656458",
   "metadata": {},
   "outputs": [
    {
     "data": {
      "text/html": [
       "<div>\n",
       "<style scoped>\n",
       "    .dataframe tbody tr th:only-of-type {\n",
       "        vertical-align: middle;\n",
       "    }\n",
       "\n",
       "    .dataframe tbody tr th {\n",
       "        vertical-align: top;\n",
       "    }\n",
       "\n",
       "    .dataframe thead th {\n",
       "        text-align: right;\n",
       "    }\n",
       "</style>\n",
       "<table border=\"1\" class=\"dataframe\">\n",
       "  <thead>\n",
       "    <tr style=\"text-align: right;\">\n",
       "      <th></th>\n",
       "      <th>Store</th>\n",
       "      <th>Dept</th>\n",
       "      <th>Weekly_Sales</th>\n",
       "      <th>IsHoliday</th>\n",
       "      <th>Temperature</th>\n",
       "      <th>Fuel_Price</th>\n",
       "      <th>MarkDown1</th>\n",
       "      <th>MarkDown2</th>\n",
       "      <th>MarkDown3</th>\n",
       "      <th>MarkDown4</th>\n",
       "      <th>MarkDown5</th>\n",
       "      <th>CPI</th>\n",
       "      <th>Unemployment</th>\n",
       "      <th>Type</th>\n",
       "      <th>Size</th>\n",
       "      <th>Year</th>\n",
       "      <th>Month</th>\n",
       "      <th>Day</th>\n",
       "      <th>WeekOfYear</th>\n",
       "    </tr>\n",
       "  </thead>\n",
       "  <tbody>\n",
       "    <tr>\n",
       "      <th>0</th>\n",
       "      <td>1</td>\n",
       "      <td>1</td>\n",
       "      <td>24924.50</td>\n",
       "      <td>False</td>\n",
       "      <td>42.31</td>\n",
       "      <td>2.572</td>\n",
       "      <td>NaN</td>\n",
       "      <td>NaN</td>\n",
       "      <td>NaN</td>\n",
       "      <td>NaN</td>\n",
       "      <td>NaN</td>\n",
       "      <td>211.096358</td>\n",
       "      <td>8.106</td>\n",
       "      <td>A</td>\n",
       "      <td>151315</td>\n",
       "      <td>2010</td>\n",
       "      <td>2</td>\n",
       "      <td>5</td>\n",
       "      <td>5</td>\n",
       "    </tr>\n",
       "    <tr>\n",
       "      <th>1</th>\n",
       "      <td>1</td>\n",
       "      <td>2</td>\n",
       "      <td>50605.27</td>\n",
       "      <td>False</td>\n",
       "      <td>42.31</td>\n",
       "      <td>2.572</td>\n",
       "      <td>NaN</td>\n",
       "      <td>NaN</td>\n",
       "      <td>NaN</td>\n",
       "      <td>NaN</td>\n",
       "      <td>NaN</td>\n",
       "      <td>211.096358</td>\n",
       "      <td>8.106</td>\n",
       "      <td>A</td>\n",
       "      <td>151315</td>\n",
       "      <td>2010</td>\n",
       "      <td>2</td>\n",
       "      <td>5</td>\n",
       "      <td>5</td>\n",
       "    </tr>\n",
       "    <tr>\n",
       "      <th>2</th>\n",
       "      <td>1</td>\n",
       "      <td>3</td>\n",
       "      <td>13740.12</td>\n",
       "      <td>False</td>\n",
       "      <td>42.31</td>\n",
       "      <td>2.572</td>\n",
       "      <td>NaN</td>\n",
       "      <td>NaN</td>\n",
       "      <td>NaN</td>\n",
       "      <td>NaN</td>\n",
       "      <td>NaN</td>\n",
       "      <td>211.096358</td>\n",
       "      <td>8.106</td>\n",
       "      <td>A</td>\n",
       "      <td>151315</td>\n",
       "      <td>2010</td>\n",
       "      <td>2</td>\n",
       "      <td>5</td>\n",
       "      <td>5</td>\n",
       "    </tr>\n",
       "    <tr>\n",
       "      <th>3</th>\n",
       "      <td>1</td>\n",
       "      <td>4</td>\n",
       "      <td>39954.04</td>\n",
       "      <td>False</td>\n",
       "      <td>42.31</td>\n",
       "      <td>2.572</td>\n",
       "      <td>NaN</td>\n",
       "      <td>NaN</td>\n",
       "      <td>NaN</td>\n",
       "      <td>NaN</td>\n",
       "      <td>NaN</td>\n",
       "      <td>211.096358</td>\n",
       "      <td>8.106</td>\n",
       "      <td>A</td>\n",
       "      <td>151315</td>\n",
       "      <td>2010</td>\n",
       "      <td>2</td>\n",
       "      <td>5</td>\n",
       "      <td>5</td>\n",
       "    </tr>\n",
       "    <tr>\n",
       "      <th>4</th>\n",
       "      <td>1</td>\n",
       "      <td>5</td>\n",
       "      <td>32229.38</td>\n",
       "      <td>False</td>\n",
       "      <td>42.31</td>\n",
       "      <td>2.572</td>\n",
       "      <td>NaN</td>\n",
       "      <td>NaN</td>\n",
       "      <td>NaN</td>\n",
       "      <td>NaN</td>\n",
       "      <td>NaN</td>\n",
       "      <td>211.096358</td>\n",
       "      <td>8.106</td>\n",
       "      <td>A</td>\n",
       "      <td>151315</td>\n",
       "      <td>2010</td>\n",
       "      <td>2</td>\n",
       "      <td>5</td>\n",
       "      <td>5</td>\n",
       "    </tr>\n",
       "  </tbody>\n",
       "</table>\n",
       "</div>"
      ],
      "text/plain": [
       "   Store  Dept  Weekly_Sales  IsHoliday  Temperature  Fuel_Price  MarkDown1  \\\n",
       "0      1     1      24924.50      False        42.31       2.572        NaN   \n",
       "1      1     2      50605.27      False        42.31       2.572        NaN   \n",
       "2      1     3      13740.12      False        42.31       2.572        NaN   \n",
       "3      1     4      39954.04      False        42.31       2.572        NaN   \n",
       "4      1     5      32229.38      False        42.31       2.572        NaN   \n",
       "\n",
       "   MarkDown2  MarkDown3  MarkDown4  MarkDown5         CPI  Unemployment Type  \\\n",
       "0        NaN        NaN        NaN        NaN  211.096358         8.106    A   \n",
       "1        NaN        NaN        NaN        NaN  211.096358         8.106    A   \n",
       "2        NaN        NaN        NaN        NaN  211.096358         8.106    A   \n",
       "3        NaN        NaN        NaN        NaN  211.096358         8.106    A   \n",
       "4        NaN        NaN        NaN        NaN  211.096358         8.106    A   \n",
       "\n",
       "     Size  Year  Month  Day  WeekOfYear  \n",
       "0  151315  2010      2    5           5  \n",
       "1  151315  2010      2    5           5  \n",
       "2  151315  2010      2    5           5  \n",
       "3  151315  2010      2    5           5  \n",
       "4  151315  2010      2    5           5  "
      ]
     },
     "execution_count": 16,
     "metadata": {},
     "output_type": "execute_result"
    }
   ],
   "source": [
    "train.head()"
   ]
  },
  {
   "cell_type": "code",
   "execution_count": 17,
   "id": "62bcf02d",
   "metadata": {},
   "outputs": [
    {
     "data": {
      "text/plain": [
       "Text(0.5, 1.0, 'Sales in different Stores')"
      ]
     },
     "execution_count": 17,
     "metadata": {},
     "output_type": "execute_result"
    },
    {
     "data": {
      "image/png": "[encoded data removed]",
      "text/plain": [
       "<Figure size 1080x288 with 2 Axes>"
      ]
     },
     "metadata": {
      "needs_background": "light"
     },
     "output_type": "display_data"
    }
   ],
   "source": [
    "#drawing weekly sales in different StoreTypes\n",
    "\n",
    "#drawing plots of StoreTypes and no of customers in different StoreTypes\n",
    "\n",
    "fig, (axis1,axis2) = plt.subplots(1,2,figsize=(15,4))\n",
    "\n",
    "sns.countplot(x='Type', data=train, ax=axis1).set_title('Number of different Stores')\n",
    "sns.barplot(x='Type', y='Weekly_Sales', data=train, ax=axis2).set_title('Sales in different Stores')"
   ]
  },
  {
   "cell_type": "code",
   "execution_count": 18,
   "id": "de6801ba",
   "metadata": {},
   "outputs": [
    {
     "data": {
      "text/plain": [
       "Text(0.5, 1.0, 'Weekly sales in different depatments')"
      ]
     },
     "execution_count": 18,
     "metadata": {},
     "output_type": "execute_result"
    },
    {
     "data": {
      "image/png": "[encoded data removed]",
      "text/plain": [
       "<Figure size 1080x720 with 1 Axes>"
      ]
     },
     "metadata": {
      "needs_background": "light"
     },
     "output_type": "display_data"
    }
   ],
   "source": [
    "#drawing weekly sales in different departments\n",
    "\n",
    "plt.figure(figsize=(15,10))\n",
    "sns.barplot(x='Dept', y='Weekly_Sales', data=train).set_title('Weekly sales in different depatments')"
   ]
  },
  {
   "cell_type": "code",
   "execution_count": 19,
   "id": "68eec588",
   "metadata": {},
   "outputs": [
    {
     "data": {
      "text/plain": [
       "Text(0.5, 1.0, 'Sales on holidays')"
      ]
     },
     "execution_count": 19,
     "metadata": {},
     "output_type": "execute_result"
    },
    {
     "data": {
      "image/png": "[encoded data removed]",
      "text/plain": [
       "<Figure size 1080x288 with 2 Axes>"
      ]
     },
     "metadata": {
      "needs_background": "light"
     },
     "output_type": "display_data"
    }
   ],
   "source": [
    "#drawing plots of DayOfWeek vs Sales and DayOfWeek vs Customers\n",
    "\n",
    "fig, (axis1,axis2) = plt.subplots(1,2,figsize=(15,4))\n",
    "\n",
    "sns.barplot(x='Month', y='Weekly_Sales', data=train, ax=axis1).set_title('Average weekly sales on different months')\n",
    "sns.barplot(x='IsHoliday', y='Weekly_Sales', data=train, ax=axis2).set_title('Sales on holidays')"
   ]
  },
  {
   "cell_type": "code",
   "execution_count": 20,
   "id": "7f1d39dc",
   "metadata": {},
   "outputs": [
    {
     "data": {
      "image/png": "[encoded data removed]",
      "text/plain": [
       "<Figure size 1584x576 with 1 Axes>"
      ]
     },
     "metadata": {
      "needs_background": "light"
     },
     "output_type": "display_data"
    }
   ],
   "source": [
    "weekly_sales_2010 = train[train.Year==2010].groupby('WeekOfYear')['Weekly_Sales'].mean()\n",
    "weekly_sales_2011 = train[train.Year==2011].groupby('WeekOfYear')['Weekly_Sales'].mean()\n",
    "weekly_sales_2012 = train[train.Year==2012].groupby('WeekOfYear')['Weekly_Sales'].mean()\n",
    "\n",
    "plt.figure(figsize=(22,8))\n",
    "plt.plot(weekly_sales_2010.index, weekly_sales_2010.values)\n",
    "plt.plot(weekly_sales_2011.index, weekly_sales_2011.values)\n",
    "plt.plot(weekly_sales_2012.index, weekly_sales_2012.values)\n",
    "\n",
    "plt.xticks(np.arange(1, 53, step=1), fontsize=16)\n",
    "plt.yticks( fontsize=16)\n",
    "plt.xlabel('Week of Year', fontsize=20, labelpad=20)\n",
    "plt.ylabel('Sales', fontsize=20, labelpad=20)\n",
    "\n",
    "plt.title(\"Average Weekly Sales - Per Year\", fontsize=24)\n",
    "plt.legend(['2010', '2011', '2012'], fontsize=20);"
   ]
  },
  {
   "cell_type": "markdown",
   "id": "29e04fb7",
   "metadata": {},
   "source": [
    "<h4>Observations :</h4>\n",
    "<p></p>\n",
    "\n",
    "1. We don't have complete data for year 2012.\n",
    "2. Sales have grown significantly during last few weeks of the year.\n",
    "3. Store Type A has larest numbers of stores across locations and has highes Sales as well.\n",
    "4. Sales are almost costant till October"
   ]
  },
  {
   "cell_type": "code",
   "execution_count": 21,
   "id": "ae88d747",
   "metadata": {},
   "outputs": [],
   "source": [
    "train = train.drop(['MarkDown1', 'MarkDown2', 'MarkDown3','MarkDown4', 'MarkDown5'], axis=1)\n",
    "test = test.drop(['MarkDown1', 'MarkDown2', 'MarkDown3','MarkDown4', 'MarkDown5'], axis=1)"
   ]
  },
  {
   "cell_type": "code",
   "execution_count": 22,
   "id": "6768a400",
   "metadata": {},
   "outputs": [
    {
     "data": {
      "text/html": [
       "<div>\n",
       "<style scoped>\n",
       "    .dataframe tbody tr th:only-of-type {\n",
       "        vertical-align: middle;\n",
       "    }\n",
       "\n",
       "    .dataframe tbody tr th {\n",
       "        vertical-align: top;\n",
       "    }\n",
       "\n",
       "    .dataframe thead th {\n",
       "        text-align: right;\n",
       "    }\n",
       "</style>\n",
       "<table border=\"1\" class=\"dataframe\">\n",
       "  <thead>\n",
       "    <tr style=\"text-align: right;\">\n",
       "      <th></th>\n",
       "      <th>Store</th>\n",
       "      <th>Dept</th>\n",
       "      <th>Weekly_Sales</th>\n",
       "      <th>IsHoliday</th>\n",
       "      <th>Temperature</th>\n",
       "      <th>Fuel_Price</th>\n",
       "      <th>CPI</th>\n",
       "      <th>Unemployment</th>\n",
       "      <th>Type</th>\n",
       "      <th>Size</th>\n",
       "      <th>Year</th>\n",
       "      <th>Month</th>\n",
       "      <th>Day</th>\n",
       "      <th>WeekOfYear</th>\n",
       "    </tr>\n",
       "  </thead>\n",
       "  <tbody>\n",
       "    <tr>\n",
       "      <th>0</th>\n",
       "      <td>1</td>\n",
       "      <td>1</td>\n",
       "      <td>24924.50</td>\n",
       "      <td>False</td>\n",
       "      <td>42.31</td>\n",
       "      <td>2.572</td>\n",
       "      <td>211.096358</td>\n",
       "      <td>8.106</td>\n",
       "      <td>A</td>\n",
       "      <td>151315</td>\n",
       "      <td>2010</td>\n",
       "      <td>2</td>\n",
       "      <td>5</td>\n",
       "      <td>5</td>\n",
       "    </tr>\n",
       "    <tr>\n",
       "      <th>1</th>\n",
       "      <td>1</td>\n",
       "      <td>2</td>\n",
       "      <td>50605.27</td>\n",
       "      <td>False</td>\n",
       "      <td>42.31</td>\n",
       "      <td>2.572</td>\n",
       "      <td>211.096358</td>\n",
       "      <td>8.106</td>\n",
       "      <td>A</td>\n",
       "      <td>151315</td>\n",
       "      <td>2010</td>\n",
       "      <td>2</td>\n",
       "      <td>5</td>\n",
       "      <td>5</td>\n",
       "    </tr>\n",
       "    <tr>\n",
       "      <th>2</th>\n",
       "      <td>1</td>\n",
       "      <td>3</td>\n",
       "      <td>13740.12</td>\n",
       "      <td>False</td>\n",
       "      <td>42.31</td>\n",
       "      <td>2.572</td>\n",
       "      <td>211.096358</td>\n",
       "      <td>8.106</td>\n",
       "      <td>A</td>\n",
       "      <td>151315</td>\n",
       "      <td>2010</td>\n",
       "      <td>2</td>\n",
       "      <td>5</td>\n",
       "      <td>5</td>\n",
       "    </tr>\n",
       "    <tr>\n",
       "      <th>3</th>\n",
       "      <td>1</td>\n",
       "      <td>4</td>\n",
       "      <td>39954.04</td>\n",
       "      <td>False</td>\n",
       "      <td>42.31</td>\n",
       "      <td>2.572</td>\n",
       "      <td>211.096358</td>\n",
       "      <td>8.106</td>\n",
       "      <td>A</td>\n",
       "      <td>151315</td>\n",
       "      <td>2010</td>\n",
       "      <td>2</td>\n",
       "      <td>5</td>\n",
       "      <td>5</td>\n",
       "    </tr>\n",
       "    <tr>\n",
       "      <th>4</th>\n",
       "      <td>1</td>\n",
       "      <td>5</td>\n",
       "      <td>32229.38</td>\n",
       "      <td>False</td>\n",
       "      <td>42.31</td>\n",
       "      <td>2.572</td>\n",
       "      <td>211.096358</td>\n",
       "      <td>8.106</td>\n",
       "      <td>A</td>\n",
       "      <td>151315</td>\n",
       "      <td>2010</td>\n",
       "      <td>2</td>\n",
       "      <td>5</td>\n",
       "      <td>5</td>\n",
       "    </tr>\n",
       "  </tbody>\n",
       "</table>\n",
       "</div>"
      ],
      "text/plain": [
       "   Store  Dept  Weekly_Sales  IsHoliday  Temperature  Fuel_Price         CPI  \\\n",
       "0      1     1      24924.50      False        42.31       2.572  211.096358   \n",
       "1      1     2      50605.27      False        42.31       2.572  211.096358   \n",
       "2      1     3      13740.12      False        42.31       2.572  211.096358   \n",
       "3      1     4      39954.04      False        42.31       2.572  211.096358   \n",
       "4      1     5      32229.38      False        42.31       2.572  211.096358   \n",
       "\n",
       "   Unemployment Type    Size  Year  Month  Day  WeekOfYear  \n",
       "0         8.106    A  151315  2010      2    5           5  \n",
       "1         8.106    A  151315  2010      2    5           5  \n",
       "2         8.106    A  151315  2010      2    5           5  \n",
       "3         8.106    A  151315  2010      2    5           5  \n",
       "4         8.106    A  151315  2010      2    5           5  "
      ]
     },
     "execution_count": 22,
     "metadata": {},
     "output_type": "execute_result"
    }
   ],
   "source": [
    "train.head()"
   ]
  },
  {
   "cell_type": "code",
   "execution_count": 23,
   "id": "a8799908",
   "metadata": {},
   "outputs": [],
   "source": [
    "numeric_cols = ['Store', 'Dept', 'Size', 'Temperature', 'Fuel_Price','CPI', 'Unemployment', 'Year', 'Month', 'Day', \n",
    "                'WeekOfYear']\n",
    "categorical_cols = ['IsHoliday', 'Type']"
   ]
  },
  {
   "cell_type": "markdown",
   "id": "f1fda9eb",
   "metadata": {},
   "source": [
    "<h4>Scale Numeric Values :</h4>\n",
    "<p></p>\n",
    "Its always a good practice to normalize the numerical features. Let's scale numeric values to the 0 to 1 range."
   ]
  },
  {
   "cell_type": "code",
   "execution_count": 24,
   "id": "d7d78de2",
   "metadata": {},
   "outputs": [],
   "source": [
    "# defining function for scaling numerical features\n",
    "\n",
    "def min_max_scaler(df):\n",
    "    scaler = MinMaxScaler().fit(df[numeric_cols])\n",
    "    df[numeric_cols] = scaler.transform(df[numeric_cols])"
   ]
  },
  {
   "cell_type": "code",
   "execution_count": 25,
   "id": "27d31a57",
   "metadata": {},
   "outputs": [],
   "source": [
    "# scaling numerical data\n",
    "min_max_scaler(train)\n",
    "min_max_scaler(test)"
   ]
  },
  {
   "cell_type": "markdown",
   "id": "b2b9061d",
   "metadata": {},
   "source": [
    "<h4>Encode Categorical Columns :</h4>\n",
    "<p></p>\n",
    "Let's also encode categorical values, so that model can model performance."
   ]
  },
  {
   "cell_type": "code",
   "execution_count": 26,
   "id": "1b79f09a",
   "metadata": {},
   "outputs": [],
   "source": [
    "# defining function for encoding categorical features\n",
    "encoded_cols = []\n",
    "def one_hot_encoder(df):\n",
    "    encoder = OneHotEncoder(sparse=False, handle_unknown='ignore').fit(df[categorical_cols])\n",
    "    encoded_cols = list(encoder.get_feature_names_out(categorical_cols))\n",
    "    df[encoded_cols] = encoder.transform(df[categorical_cols])\n",
    "    df = df.drop(df.loc[:, categorical_cols].columns, axis=1, inplace = True)"
   ]
  },
  {
   "cell_type": "code",
   "execution_count": 27,
   "id": "0ef8f43b",
   "metadata": {},
   "outputs": [],
   "source": [
    "# encoding categorical features\n",
    "one_hot_encoder(train)\n",
    "one_hot_encoder(test)"
   ]
  },
  {
   "cell_type": "code",
   "execution_count": 28,
   "id": "69d08b00",
   "metadata": {},
   "outputs": [
    {
     "data": {
      "text/html": [
       "<div>\n",
       "<style scoped>\n",
       "    .dataframe tbody tr th:only-of-type {\n",
       "        vertical-align: middle;\n",
       "    }\n",
       "\n",
       "    .dataframe tbody tr th {\n",
       "        vertical-align: top;\n",
       "    }\n",
       "\n",
       "    .dataframe thead th {\n",
       "        text-align: right;\n",
       "    }\n",
       "</style>\n",
       "<table border=\"1\" class=\"dataframe\">\n",
       "  <thead>\n",
       "    <tr style=\"text-align: right;\">\n",
       "      <th></th>\n",
       "      <th>Store</th>\n",
       "      <th>Dept</th>\n",
       "      <th>Weekly_Sales</th>\n",
       "      <th>Temperature</th>\n",
       "      <th>Fuel_Price</th>\n",
       "      <th>CPI</th>\n",
       "      <th>Unemployment</th>\n",
       "      <th>Size</th>\n",
       "      <th>Year</th>\n",
       "      <th>Month</th>\n",
       "      <th>Day</th>\n",
       "      <th>WeekOfYear</th>\n",
       "      <th>IsHoliday_False</th>\n",
       "      <th>IsHoliday_True</th>\n",
       "      <th>Type_A</th>\n",
       "      <th>Type_B</th>\n",
       "      <th>Type_C</th>\n",
       "    </tr>\n",
       "  </thead>\n",
       "  <tbody>\n",
       "    <tr>\n",
       "      <th>0</th>\n",
       "      <td>0.0</td>\n",
       "      <td>0.000000</td>\n",
       "      <td>24924.50</td>\n",
       "      <td>0.434149</td>\n",
       "      <td>0.0501</td>\n",
       "      <td>0.8405</td>\n",
       "      <td>0.405118</td>\n",
       "      <td>0.630267</td>\n",
       "      <td>0.0</td>\n",
       "      <td>0.090909</td>\n",
       "      <td>0.133333</td>\n",
       "      <td>0.078431</td>\n",
       "      <td>1.0</td>\n",
       "      <td>0.0</td>\n",
       "      <td>1.0</td>\n",
       "      <td>0.0</td>\n",
       "      <td>0.0</td>\n",
       "    </tr>\n",
       "    <tr>\n",
       "      <th>1</th>\n",
       "      <td>0.0</td>\n",
       "      <td>0.010204</td>\n",
       "      <td>50605.27</td>\n",
       "      <td>0.434149</td>\n",
       "      <td>0.0501</td>\n",
       "      <td>0.8405</td>\n",
       "      <td>0.405118</td>\n",
       "      <td>0.630267</td>\n",
       "      <td>0.0</td>\n",
       "      <td>0.090909</td>\n",
       "      <td>0.133333</td>\n",
       "      <td>0.078431</td>\n",
       "      <td>1.0</td>\n",
       "      <td>0.0</td>\n",
       "      <td>1.0</td>\n",
       "      <td>0.0</td>\n",
       "      <td>0.0</td>\n",
       "    </tr>\n",
       "    <tr>\n",
       "      <th>2</th>\n",
       "      <td>0.0</td>\n",
       "      <td>0.020408</td>\n",
       "      <td>13740.12</td>\n",
       "      <td>0.434149</td>\n",
       "      <td>0.0501</td>\n",
       "      <td>0.8405</td>\n",
       "      <td>0.405118</td>\n",
       "      <td>0.630267</td>\n",
       "      <td>0.0</td>\n",
       "      <td>0.090909</td>\n",
       "      <td>0.133333</td>\n",
       "      <td>0.078431</td>\n",
       "      <td>1.0</td>\n",
       "      <td>0.0</td>\n",
       "      <td>1.0</td>\n",
       "      <td>0.0</td>\n",
       "      <td>0.0</td>\n",
       "    </tr>\n",
       "    <tr>\n",
       "      <th>3</th>\n",
       "      <td>0.0</td>\n",
       "      <td>0.030612</td>\n",
       "      <td>39954.04</td>\n",
       "      <td>0.434149</td>\n",
       "      <td>0.0501</td>\n",
       "      <td>0.8405</td>\n",
       "      <td>0.405118</td>\n",
       "      <td>0.630267</td>\n",
       "      <td>0.0</td>\n",
       "      <td>0.090909</td>\n",
       "      <td>0.133333</td>\n",
       "      <td>0.078431</td>\n",
       "      <td>1.0</td>\n",
       "      <td>0.0</td>\n",
       "      <td>1.0</td>\n",
       "      <td>0.0</td>\n",
       "      <td>0.0</td>\n",
       "    </tr>\n",
       "    <tr>\n",
       "      <th>4</th>\n",
       "      <td>0.0</td>\n",
       "      <td>0.040816</td>\n",
       "      <td>32229.38</td>\n",
       "      <td>0.434149</td>\n",
       "      <td>0.0501</td>\n",
       "      <td>0.8405</td>\n",
       "      <td>0.405118</td>\n",
       "      <td>0.630267</td>\n",
       "      <td>0.0</td>\n",
       "      <td>0.090909</td>\n",
       "      <td>0.133333</td>\n",
       "      <td>0.078431</td>\n",
       "      <td>1.0</td>\n",
       "      <td>0.0</td>\n",
       "      <td>1.0</td>\n",
       "      <td>0.0</td>\n",
       "      <td>0.0</td>\n",
       "    </tr>\n",
       "  </tbody>\n",
       "</table>\n",
       "</div>"
      ],
      "text/plain": [
       "   Store      Dept  Weekly_Sales  Temperature  Fuel_Price     CPI  \\\n",
       "0    0.0  0.000000      24924.50     0.434149      0.0501  0.8405   \n",
       "1    0.0  0.010204      50605.27     0.434149      0.0501  0.8405   \n",
       "2    0.0  0.020408      13740.12     0.434149      0.0501  0.8405   \n",
       "3    0.0  0.030612      39954.04     0.434149      0.0501  0.8405   \n",
       "4    0.0  0.040816      32229.38     0.434149      0.0501  0.8405   \n",
       "\n",
       "   Unemployment      Size  Year     Month       Day  WeekOfYear  \\\n",
       "0      0.405118  0.630267   0.0  0.090909  0.133333    0.078431   \n",
       "1      0.405118  0.630267   0.0  0.090909  0.133333    0.078431   \n",
       "2      0.405118  0.630267   0.0  0.090909  0.133333    0.078431   \n",
       "3      0.405118  0.630267   0.0  0.090909  0.133333    0.078431   \n",
       "4      0.405118  0.630267   0.0  0.090909  0.133333    0.078431   \n",
       "\n",
       "   IsHoliday_False  IsHoliday_True  Type_A  Type_B  Type_C  \n",
       "0              1.0             0.0     1.0     0.0     0.0  \n",
       "1              1.0             0.0     1.0     0.0     0.0  \n",
       "2              1.0             0.0     1.0     0.0     0.0  \n",
       "3              1.0             0.0     1.0     0.0     0.0  \n",
       "4              1.0             0.0     1.0     0.0     0.0  "
      ]
     },
     "execution_count": 28,
     "metadata": {},
     "output_type": "execute_result"
    }
   ],
   "source": [
    "train.head()"
   ]
  },
  {
   "cell_type": "code",
   "execution_count": 29,
   "id": "9ffc2b65",
   "metadata": {
    "scrolled": true
   },
   "outputs": [
    {
     "data": {
      "text/plain": [
       "(421570, 17)"
      ]
     },
     "execution_count": 29,
     "metadata": {},
     "output_type": "execute_result"
    }
   ],
   "source": [
    "train.shape"
   ]
  },
  {
   "cell_type": "code",
   "execution_count": 30,
   "id": "717d4387",
   "metadata": {},
   "outputs": [
    {
     "data": {
      "text/plain": [
       "1.0    391909\n",
       "0.0     29661\n",
       "Name: IsHoliday_False, dtype: int64"
      ]
     },
     "execution_count": 30,
     "metadata": {},
     "output_type": "execute_result"
    }
   ],
   "source": [
    "train['IsHoliday_False'].value_counts()"
   ]
  },
  {
   "cell_type": "code",
   "execution_count": 31,
   "id": "130eb681",
   "metadata": {},
   "outputs": [
    {
     "data": {
      "text/plain": [
       "0.0    391909\n",
       "1.0     29661\n",
       "Name: IsHoliday_True, dtype: int64"
      ]
     },
     "execution_count": 31,
     "metadata": {},
     "output_type": "execute_result"
    }
   ],
   "source": [
    "train['IsHoliday_True'].value_counts()"
   ]
  },
  {
   "cell_type": "markdown",
   "id": "afea8527",
   "metadata": {},
   "source": [
    "<h3>3.3 Train Test Set Split</h3>"
   ]
  },
  {
   "cell_type": "code",
   "execution_count": 32,
   "id": "7d3b4c31",
   "metadata": {},
   "outputs": [
    {
     "data": {
      "text/plain": [
       "0    24924.50\n",
       "1    50605.27\n",
       "2    13740.12\n",
       "3    39954.04\n",
       "4    32229.38\n",
       "Name: Weekly_Sales, dtype: float64"
      ]
     },
     "execution_count": 32,
     "metadata": {},
     "output_type": "execute_result"
    }
   ],
   "source": [
    "# targets\n",
    "\n",
    "Y_train_temp = train['Weekly_Sales']\n",
    "Y_train_temp.head()"
   ]
  },
  {
   "cell_type": "code",
   "execution_count": 33,
   "id": "bac91c92",
   "metadata": {},
   "outputs": [],
   "source": [
    "# inputs\n",
    "\n",
    "X_train_temp = train[['Store', 'Dept', 'Temperature', 'Fuel_Price', 'CPI', 'Unemployment', 'Size', 'Year', 'Month', 'Day', \n",
    "                 'WeekOfYear','IsHoliday_False', 'IsHoliday_True', 'Type_A', 'Type_B', 'Type_C']]"
   ]
  },
  {
   "cell_type": "code",
   "execution_count": 34,
   "id": "42bd0004",
   "metadata": {},
   "outputs": [],
   "source": [
    "# Splitting and training\n",
    "train_inputs, test_inputs, train_targets, test_targets = train_test_split(X_train_temp, Y_train_temp, test_size=0.25, random_state=42)"
   ]
  },
  {
   "cell_type": "code",
   "execution_count": 35,
   "id": "d485ff17",
   "metadata": {
    "scrolled": true
   },
   "outputs": [
    {
     "data": {
      "text/plain": [
       "((316177, 16), (105393, 16), (316177,), (105393,))"
      ]
     },
     "execution_count": 35,
     "metadata": {},
     "output_type": "execute_result"
    }
   ],
   "source": [
    "train_inputs.shape, test_inputs.shape, train_targets.shape, test_targets.shape"
   ]
  },
  {
   "cell_type": "markdown",
   "id": "a4dfc23e",
   "metadata": {},
   "source": [
    "<h2>4. Machine Learning Model Selection</h2>"
   ]
  },
  {
   "cell_type": "markdown",
   "id": "6beb2a96",
   "metadata": {},
   "source": [
    "Lets go through different considerations in model selection:\n",
    "1. Type of model - We will have to look for a regression supervised model. Options available are Linear Regression, DT, RF, XGBoost, Neural Network.\n",
    "2. Size of the training data - We have enough data points,  421570 train data points and therefore we can have a low bias/high variance algorithm like Decision trees.\n",
    "2. Interpretability - Not very important consideration in our problem statement, higher accuracy at the cost of low interpretability.\n",
    "3. Speed or Training time - Time is not a business constraint, we can go for high training time.\n",
    "\n",
    "We wil consider RF and XGBoost and compare accuracies."
   ]
  },
  {
   "cell_type": "markdown",
   "id": "dacd9e7a",
   "metadata": {},
   "source": [
    "<h2>5. Model Performance</h2>"
   ]
  },
  {
   "cell_type": "markdown",
   "id": "61869fd5",
   "metadata": {},
   "source": [
    "<h3>5.1 XG Boost Regressor</h3>"
   ]
  },
  {
   "cell_type": "markdown",
   "id": "e755c370",
   "metadata": {},
   "source": [
    "<h4>Model Training & Prediction :</h4>\n",
    "<p> </p>"
   ]
  },
  {
   "cell_type": "code",
   "execution_count": 36,
   "id": "b0382c45",
   "metadata": {},
   "outputs": [],
   "source": [
    "# importing XGBRegressor\n",
    "from xgboost import XGBRegressor"
   ]
  },
  {
   "cell_type": "markdown",
   "id": "30328159",
   "metadata": {},
   "source": [
    "<h5>Base Model XG Boost</h5>"
   ]
  },
  {
   "cell_type": "code",
   "execution_count": 37,
   "id": "cae4c931",
   "metadata": {},
   "outputs": [],
   "source": [
    "model_xg = XGBRegressor(random_state=42, n_jobs=-1, n_estimators=20, max_depth=4)"
   ]
  },
  {
   "cell_type": "code",
   "execution_count": 38,
   "id": "6945a83c",
   "metadata": {},
   "outputs": [],
   "source": [
    "# fitting the model\n",
    "model_xg = XGBRegressor(random_state=42, n_jobs=-1, n_estimators=20, max_depth=4).fit(train_inputs,train_targets)"
   ]
  },
  {
   "cell_type": "code",
   "execution_count": 39,
   "id": "931a3a98",
   "metadata": {
    "scrolled": true
   },
   "outputs": [
    {
     "data": {
      "text/plain": [
       "(316177,)"
      ]
     },
     "execution_count": 39,
     "metadata": {},
     "output_type": "execute_result"
    }
   ],
   "source": [
    "# predict the output\n",
    "train_pred = model_xg.predict(train_inputs)\n",
    "train_pred.shape"
   ]
  },
  {
   "cell_type": "markdown",
   "id": "93816a5c",
   "metadata": {},
   "source": [
    "<h4>Evaluation :</h4>\n",
    "<p> As our evaluation metric is WMAE we will have to find out the weights for each data point as below.</p>\n",
    "<img src=\"data:image/jpeg;base64,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\" width=\"480\">"
   ]
  },
  {
   "cell_type": "code",
   "execution_count": 40,
   "id": "20050afa",
   "metadata": {},
   "outputs": [],
   "source": [
    "# defining function for weight calculation\n",
    "\n",
    "def weight_calculation(df):\n",
    "    weights = []\n",
    "    for val in df['IsHoliday_False']:\n",
    "        if val == 0:\n",
    "            weights.append(5)\n",
    "        else:\n",
    "            weights.append(1)\n",
    "    return weights"
   ]
  },
  {
   "cell_type": "code",
   "execution_count": 41,
   "id": "f59a6800",
   "metadata": {},
   "outputs": [],
   "source": [
    "# calculating weights for training data\n",
    "train_weights = weight_calculation(train_inputs)"
   ]
  },
  {
   "cell_type": "code",
   "execution_count": 42,
   "id": "d9099bc4",
   "metadata": {
    "scrolled": false
   },
   "outputs": [
    {
     "data": {
      "text/plain": [
       "316177"
      ]
     },
     "execution_count": 42,
     "metadata": {},
     "output_type": "execute_result"
    }
   ],
   "source": [
    "len(train_weights)"
   ]
  },
  {
   "cell_type": "code",
   "execution_count": 43,
   "id": "f12d34bc",
   "metadata": {
    "scrolled": true
   },
   "outputs": [
    {
     "name": "stdout",
     "output_type": "stream",
     "text": [
      "[1 5]\n"
     ]
    }
   ],
   "source": [
    "print(np.unique(train_weights))"
   ]
  },
  {
   "cell_type": "code",
   "execution_count": 44,
   "id": "47b6b97b",
   "metadata": {
    "scrolled": true
   },
   "outputs": [
    {
     "data": {
      "text/plain": [
       "(294075, 22102)"
      ]
     },
     "execution_count": 44,
     "metadata": {},
     "output_type": "execute_result"
    }
   ],
   "source": [
    "train_weights.count(1), train_weights.count(5)"
   ]
  },
  {
   "cell_type": "code",
   "execution_count": 45,
   "id": "ce0cabb3",
   "metadata": {},
   "outputs": [
    {
     "data": {
      "text/plain": [
       "(numpy.ndarray, list, pandas.core.series.Series)"
      ]
     },
     "execution_count": 45,
     "metadata": {},
     "output_type": "execute_result"
    }
   ],
   "source": [
    "type(train_pred), type(train_weights), type(train_targets)"
   ]
  },
  {
   "cell_type": "code",
   "execution_count": 46,
   "id": "d3aaa48d",
   "metadata": {},
   "outputs": [],
   "source": [
    "# function to calculate WMPA\n",
    "\n",
    "def weighted_absolute_mean_error(weights, y_actual, y_pred):\n",
    "    sum_weights = 0\n",
    "    sum = 0 \n",
    "    start_time = time.time()\n",
    "    for i in range(len(weights)):\n",
    "        sum += abs(y_actual[i] - y_pred[i])*weights[i]\n",
    "        sum_weights += weights[i]\n",
    "    WMAE = sum/sum_weights\n",
    "    return WMAE"
   ]
  },
  {
   "cell_type": "code",
   "execution_count": 47,
   "id": "5ad4b089",
   "metadata": {},
   "outputs": [
    {
     "name": "stdout",
     "output_type": "stream",
     "text": [
      "Training WMAE for XG Boost is : 6514.53722578108\n"
     ]
    }
   ],
   "source": [
    "# WMPA calculation for training set\n",
    "train_wmae = weighted_absolute_mean_error(train_weights, train_targets.tolist(), train_pred)\n",
    "print('Training WMAE for XG Boost is :', train_wmae)"
   ]
  },
  {
   "cell_type": "markdown",
   "id": "e95287b4",
   "metadata": {},
   "source": [
    "<h4>Interpretability for XG Boost:</h4>\n",
    "<p> As XG Boost is highly interpretable, lets see the feature importance of our features. </p>"
   ]
  },
  {
   "cell_type": "code",
   "execution_count": 48,
   "id": "1958b4ce",
   "metadata": {},
   "outputs": [],
   "source": [
    "importance_df = pd.DataFrame({\n",
    "    'feature': train_inputs.columns,\n",
    "    'importance': model_xg.feature_importances_\n",
    "}).sort_values('importance', ascending=False)"
   ]
  },
  {
   "cell_type": "code",
   "execution_count": 49,
   "id": "0f3231d5",
   "metadata": {
    "scrolled": false
   },
   "outputs": [
    {
     "data": {
      "image/png": "[encoded data removed]",
      "text/plain": [
       "<Figure size 720x432 with 1 Axes>"
      ]
     },
     "metadata": {
      "needs_background": "light"
     },
     "output_type": "display_data"
    }
   ],
   "source": [
    "import seaborn as sns\n",
    "plt.figure(figsize=(10,6))\n",
    "plt.title('Feature Importance')\n",
    "sns.barplot(data=importance_df.head(10), x='importance', y='feature');"
   ]
  },
  {
   "cell_type": "markdown",
   "id": "00b50278",
   "metadata": {},
   "source": [
    "<h4>Performation on Test data points(XG Boost) :</h4>\n",
    "<p> Lets perform test validation for this model. </p>"
   ]
  },
  {
   "cell_type": "code",
   "execution_count": 50,
   "id": "3dadd792",
   "metadata": {},
   "outputs": [
    {
     "data": {
      "text/plain": [
       "array([20859.258,  7795.854,  7176.801, ...,  4448.408, 25438.01 ,\n",
       "        7401.839], dtype=float32)"
      ]
     },
     "execution_count": 50,
     "metadata": {},
     "output_type": "execute_result"
    }
   ],
   "source": [
    "# predict the output for test dataset\n",
    "test_pred = model_xg.predict(test_inputs)\n",
    "test_pred"
   ]
  },
  {
   "cell_type": "code",
   "execution_count": 51,
   "id": "e348461d",
   "metadata": {},
   "outputs": [],
   "source": [
    "# calculating weights for training data\n",
    "test_weights = weight_calculation(test_inputs)"
   ]
  },
  {
   "cell_type": "code",
   "execution_count": 52,
   "id": "668ebf77",
   "metadata": {},
   "outputs": [
    {
     "data": {
      "text/plain": [
       "(97834, 7559)"
      ]
     },
     "execution_count": 52,
     "metadata": {},
     "output_type": "execute_result"
    }
   ],
   "source": [
    "test_weights.count(1), test_weights.count(5)"
   ]
  },
  {
   "cell_type": "code",
   "execution_count": 53,
   "id": "5b5b08dd",
   "metadata": {},
   "outputs": [
    {
     "name": "stdout",
     "output_type": "stream",
     "text": [
      "Testing WMAE is : 6614.44861515229\n"
     ]
    }
   ],
   "source": [
    "# WMPA calculation for training set\n",
    "test_wmae = weighted_absolute_mean_error(test_weights, test_targets.tolist(), test_pred)\n",
    "print('Testing WMAE is :', test_wmae)"
   ]
  },
  {
   "cell_type": "markdown",
   "id": "34c27125",
   "metadata": {},
   "source": [
    "<h4>Observations :</h4>\n",
    "<p></p>\n",
    "\n",
    "1. As we see the WMPA for train and test data points are very close to each other so we can say that our model is performing well and there is no overfitting observed.\n",
    "2. We will have to do some hyperparameter tuning just to ensure we have right choice of hyperparameters."
   ]
  },
  {
   "cell_type": "markdown",
   "id": "f19fb892",
   "metadata": {},
   "source": [
    "<h4>Hyperparamer Tuning(XG Boost) :</h4>\n",
    "<p></p>\n",
    "\n",
    "In XG Boost we have different hyperparameters like `n_estimators`, `max_depth` etc. Let's do some tuning of these hyperparamater and observe the errors.\n",
    "\n",
    "<img src=\"https://i.imgur.com/EJCrSZw.png\" width=\"480\">"
   ]
  },
  {
   "cell_type": "code",
   "execution_count": 54,
   "id": "183699f7",
   "metadata": {},
   "outputs": [],
   "source": [
    "# function for testing different hyperparameters' values\n",
    "def test_params(**params):\n",
    "    model = XGBRegressor(n_jobs=-1, random_state=42, **params)\n",
    "    model.fit(train_inputs, train_targets)\n",
    "    train_wmpa = weighted_absolute_mean_error(train_weights, train_targets.tolist(), model.predict(train_inputs))\n",
    "    test_wmpa = weighted_absolute_mean_error(test_weights, test_targets.tolist(), model.predict(test_inputs))\n",
    "    print('Max Depth: {}, Learning Rate: {}, Train_wmpa: {}, Test_wmpa: {}'.format(model.max_depth, model.learning_rate, \n",
    "                                                                                   train_wmpa, test_wmpa))\n",
    "    return {'Learning Rate': model.learning_rate, 'Max Depth': model.max_depth, 'Training Error': train_wmpa, \n",
    "            'Testing Error': test_wmpa}"
   ]
  },
  {
   "cell_type": "markdown",
   "id": "08dcf33f",
   "metadata": {},
   "source": [
    "`n_estimators`\n",
    "\n",
    "The number of trees to be created. More trees = greater capacity of the model. We will take a value of 200."
   ]
  },
  {
   "cell_type": "markdown",
   "id": "e950ab00",
   "metadata": {},
   "source": [
    "`max_depth` \n",
    "\n",
    "The maximum depth of a tree. As we increase the max depth of each tree, the capacity of the tree increases and it can capture more information about the training set. Lets experiment with different values of max_depth, plot a graph of the training and validation error and determine the optimal."
   ]
  },
  {
   "cell_type": "code",
   "execution_count": 55,
   "id": "7fce6eb8",
   "metadata": {},
   "outputs": [
    {
     "name": "stdout",
     "output_type": "stream",
     "text": [
      "Max Depth: 10, Learning Rate: None, Train_wmpa: 933.8457748138011, Test_wmpa: 1550.5384686033035\n",
      "Max Depth: 11, Learning Rate: None, Train_wmpa: 690.849749913641, Test_wmpa: 1460.3761995936404\n",
      "Max Depth: 12, Learning Rate: None, Train_wmpa: 496.06110770933304, Test_wmpa: 1406.3795791602256\n",
      "Max Depth: 13, Learning Rate: None, Train_wmpa: 343.19242531518876, Test_wmpa: 1396.8424211402728\n",
      "Max Depth: 14, Learning Rate: None, Train_wmpa: 234.15539108601274, Test_wmpa: 1378.0133900908447\n",
      "Max Depth: 15, Learning Rate: None, Train_wmpa: 143.60502386906867, Test_wmpa: 1373.6137537550694\n",
      "Max Depth: 16, Learning Rate: None, Train_wmpa: 76.51394166810948, Test_wmpa: 1378.4389939065748\n",
      "Max Depth: 17, Learning Rate: None, Train_wmpa: 40.175397459766735, Test_wmpa: 1387.352426065327\n",
      "Max Depth: 18, Learning Rate: None, Train_wmpa: 16.815780024979276, Test_wmpa: 1403.6948497589337\n",
      "Max Depth: 19, Learning Rate: None, Train_wmpa: 6.900487856050928, Test_wmpa: 1396.5471049714586\n",
      "Wall time: 19min 1s\n"
     ]
    }
   ],
   "source": [
    "%%time\n",
    "errors_df_max_depth = pd.DataFrame([test_params(max_depth = md, n_estimators=200) for md in range(10, 20)])"
   ]
  },
  {
   "cell_type": "code",
   "execution_count": 56,
   "id": "0a885e62",
   "metadata": {},
   "outputs": [
    {
     "data": {
      "text/plain": [
       "<matplotlib.legend.Legend at 0x1e02eb09d60>"
      ]
     },
     "execution_count": 56,
     "metadata": {},
     "output_type": "execute_result"
    },
    {
     "data": {
      "image/png": "[encoded data removed]",
      "text/plain": [
       "<Figure size 720x576 with 1 Axes>"
      ]
     },
     "metadata": {
      "needs_background": "light"
     },
     "output_type": "display_data"
    }
   ],
   "source": [
    "plt.figure(figsize=(10,8))\n",
    "plt.plot(errors_df_max_depth['Max Depth'], errors_df_max_depth['Training Error'])\n",
    "plt.plot(errors_df_max_depth['Max Depth'], errors_df_max_depth['Testing Error'])\n",
    "plt.title('Training vs. Testing Error')\n",
    "plt.xticks(np.linspace(10, 20, num=20))\n",
    "plt.xlabel('Max Depth')\n",
    "plt.ylabel('Prediction Error')\n",
    "plt.legend(['Training', 'Testing'])"
   ]
  },
  {
   "cell_type": "markdown",
   "id": "3746332c",
   "metadata": {},
   "source": [
    "<h4>Observations :</h4>\n",
    "<p></p>\n",
    "\n",
    "1. As we see the training and testing error converges. The best would be the minimum of testing error.\n",
    "2. Lets adopt max_depth value as 15.\n",
    "3. We can hypertune more parameters like max_leaf_nodes, alpha etc for the best result."
   ]
  },
  {
   "cell_type": "markdown",
   "id": "8eb4992c",
   "metadata": {},
   "source": [
    "<h3>5.2 Random Forest Regressor</h3>"
   ]
  },
  {
   "cell_type": "markdown",
   "id": "b252ed4a",
   "metadata": {},
   "source": [
    "<h4>Model Training & Prediction :</h4>"
   ]
  },
  {
   "cell_type": "code",
   "execution_count": 57,
   "id": "91f2ac3a",
   "metadata": {},
   "outputs": [],
   "source": [
    "# importing XGBRegressor\n",
    "\n",
    "from sklearn.ensemble import RandomForestRegressor"
   ]
  },
  {
   "cell_type": "markdown",
   "id": "8bafa254",
   "metadata": {},
   "source": [
    "<h5>Base Model Random Forest</h5>"
   ]
  },
  {
   "cell_type": "code",
   "execution_count": 58,
   "id": "503260b0",
   "metadata": {},
   "outputs": [
    {
     "data": {
      "text/plain": [
       "RandomForestRegressor(max_depth=27, max_features=6, min_samples_split=3,\n",
       "                      n_estimators=58)"
      ]
     },
     "execution_count": 58,
     "metadata": {},
     "output_type": "execute_result"
    }
   ],
   "source": [
    "# fitting the model with Hyperparameter Overfitting\n",
    "model_rf = RandomForestRegressor(n_estimators=58, max_depth=27, max_features=6, min_samples_split=3, min_samples_leaf=1)\n",
    "model_rf.fit(train_inputs,train_targets)"
   ]
  },
  {
   "cell_type": "code",
   "execution_count": 59,
   "id": "dda70c93",
   "metadata": {},
   "outputs": [
    {
     "data": {
      "text/plain": [
       "(316177,)"
      ]
     },
     "execution_count": 59,
     "metadata": {},
     "output_type": "execute_result"
    }
   ],
   "source": [
    "# predicting output\n",
    "train_pred_rf = model_rf.predict(train_inputs)\n",
    "train_pred_rf.shape"
   ]
  },
  {
   "cell_type": "markdown",
   "id": "553b4f89",
   "metadata": {},
   "source": [
    "We have already calculated weights for train_inputs before `train_weights`, lets use that to calculate `WMAE`"
   ]
  },
  {
   "cell_type": "markdown",
   "id": "95ed9129",
   "metadata": {},
   "source": [
    "<h4>Evaluation :</h4>\n",
    "<p> As our evaluation metric is WMAE we will have to find out the weights for each data point as below.</p>"
   ]
  },
  {
   "cell_type": "code",
   "execution_count": 60,
   "id": "5780594d",
   "metadata": {},
   "outputs": [
    {
     "name": "stdout",
     "output_type": "stream",
     "text": [
      "Training WMAE for Random Forest is : 1664.7438709405549\n"
     ]
    }
   ],
   "source": [
    "# WMPA calculation for training set\n",
    "train_wmae_rf = weighted_absolute_mean_error(train_weights, train_targets.tolist(), train_pred_rf)\n",
    "print('Training WMAE for Random Forest is :', train_wmae_rf)"
   ]
  },
  {
   "cell_type": "code",
   "execution_count": 61,
   "id": "a5b3add0",
   "metadata": {},
   "outputs": [
    {
     "name": "stdout",
     "output_type": "stream",
     "text": [
      "The training score of the model is : 0.9848020182353476\n"
     ]
    }
   ],
   "source": [
    "# calculating model core training data\n",
    "print('The training score of the model is :',model_rf.score(train_inputs,train_targets))"
   ]
  },
  {
   "cell_type": "markdown",
   "id": "71d02067",
   "metadata": {},
   "source": [
    "<h4>Interpretability for Random Forest :</h4>\n",
    "<p> As Random Forest is highly interpretable, lets look at the feature importance of our features. </p>"
   ]
  },
  {
   "cell_type": "code",
   "execution_count": 62,
   "id": "3f244756",
   "metadata": {},
   "outputs": [],
   "source": [
    "# Let's turn this into a dataframe and visualize the most important features.\n",
    "importance_df = pd.DataFrame({\n",
    "    'feature': train_inputs.columns,\n",
    "    'importance': model_rf.feature_importances_\n",
    "}).sort_values('importance', ascending=False)"
   ]
  },
  {
   "cell_type": "code",
   "execution_count": 63,
   "id": "d347639e",
   "metadata": {
    "scrolled": false
   },
   "outputs": [
    {
     "data": {
      "image/png": "[encoded data removed]",
      "text/plain": [
       "<Figure size 720x432 with 1 Axes>"
      ]
     },
     "metadata": {
      "needs_background": "light"
     },
     "output_type": "display_data"
    }
   ],
   "source": [
    "import seaborn as sns\n",
    "plt.figure(figsize=(10,6))\n",
    "plt.title('Feature Importance')\n",
    "sns.barplot(data=importance_df.head(10), x='importance', y='feature');"
   ]
  },
  {
   "cell_type": "markdown",
   "id": "7b924a96",
   "metadata": {},
   "source": [
    "<h4>Performation on Test data points(RF) :</h4>\n",
    "<p> Lets perform test validation for this model. </p>"
   ]
  },
  {
   "cell_type": "code",
   "execution_count": 64,
   "id": "41a9cc92",
   "metadata": {},
   "outputs": [
    {
     "data": {
      "text/plain": [
       "array([21913.69329598,  7246.00920591,  4716.82098851, ...,\n",
       "        1707.09459885, 28299.89494766, 15495.27434757])"
      ]
     },
     "execution_count": 64,
     "metadata": {},
     "output_type": "execute_result"
    }
   ],
   "source": [
    "# predict the output for test dataset\n",
    "test_pred_rf = model_rf.predict(test_inputs)\n",
    "test_pred_rf"
   ]
  },
  {
   "cell_type": "code",
   "execution_count": 65,
   "id": "078de90e",
   "metadata": {},
   "outputs": [],
   "source": [
    "# calculating weights for training data\n",
    "test_weights_rf = weight_calculation(test_inputs)"
   ]
  },
  {
   "cell_type": "code",
   "execution_count": 66,
   "id": "a3ffccb0",
   "metadata": {},
   "outputs": [
    {
     "name": "stdout",
     "output_type": "stream",
     "text": [
      "Testing WMAE is : 6614.44861515229\n"
     ]
    }
   ],
   "source": [
    "# WMPA calculation for training set\n",
    "test_wmae_rf = weighted_absolute_mean_error(test_weights, test_targets.tolist(), test_pred)\n",
    "print('Testing WMAE is :', test_wmae_rf)"
   ]
  },
  {
   "cell_type": "code",
   "execution_count": 67,
   "id": "7ac51f66",
   "metadata": {},
   "outputs": [
    {
     "name": "stdout",
     "output_type": "stream",
     "text": [
      "The testing score of the model is : 0.9316862968204079\n"
     ]
    }
   ],
   "source": [
    "# calculating model core test data\n",
    "print('The testing score of the model is :',model_rf.score(test_inputs,test_targets))"
   ]
  },
  {
   "cell_type": "markdown",
   "id": "84f89b8c",
   "metadata": {},
   "source": [
    "<h4>Observations :</h4>\n",
    "<p></p>\n",
    "\n",
    "1. As we see the WMPA for train and test data points have significantly difference this may be because of overfitting.\n",
    "2. We will have to do some hyperparameter tuning just to ensure we have right choice of hyperparameters."
   ]
  },
  {
   "cell_type": "markdown",
   "id": "1f1962a7",
   "metadata": {},
   "source": [
    "<h4>Hyperparamer Tuning(Random Forest) :</h4>\n",
    "<p></p>\n",
    "\n",
    "In Random Forest we have different hyperparameters like `n_estimators`, `max_depth`, `min_samples_split`, `min_samples_leaf` etc. Let's do some tuning of few of these hyperparamater and observe the errors."
   ]
  },
  {
   "cell_type": "code",
   "execution_count": 68,
   "id": "8985d179",
   "metadata": {},
   "outputs": [],
   "source": [
    "# function for testing different hyperparameters' values\n",
    "def test_params_rf(**params):\n",
    "    model = RandomForestRegressor(n_jobs=-1, random_state=42, **params)\n",
    "    model.fit(train_inputs, train_targets)\n",
    "    train_wmpa = weighted_absolute_mean_error(train_weights, train_targets.tolist(), model.predict(train_inputs))\n",
    "    test_wmpa = weighted_absolute_mean_error(test_weights_rf, test_targets.tolist(), model.predict(test_inputs))\n",
    "    print('Max Depth: {}, Max Features: {}, Train_wmpa: {}, Test_wmpa: {}'.format(model.max_depth, model.max_features, \n",
    "                                                                                   train_wmpa, test_wmpa))\n",
    "    print('Model Score is :', model.score(test_inputs,test_targets))\n",
    "    return {'Max Features': model.max_features, 'Max Depth': model.max_depth, 'Training Error': train_wmpa, \n",
    "            'Testing Error': test_wmpa}"
   ]
  },
  {
   "cell_type": "code",
   "execution_count": 69,
   "id": "14395441",
   "metadata": {},
   "outputs": [],
   "source": [
    "# n_estimators=58, max_depth=27, max_features=6, min_samples_split=3, min_samples_leaf=1"
   ]
  },
  {
   "cell_type": "markdown",
   "id": "4cef9888",
   "metadata": {},
   "source": [
    "`max_depth` \n",
    "\n",
    "The maximum depth of a tree. As we increase the max depth of each tree, the capacity of the tree increases and it can capture more information about the training set. Lets experiment with different values of max_depth, plot a graph of the training and validation error and determine the optimal."
   ]
  },
  {
   "cell_type": "markdown",
   "id": "b0835086",
   "metadata": {},
   "source": [
    "`max_features`\n",
    "Maximum number of features considered for splitting a node."
   ]
  },
  {
   "cell_type": "code",
   "execution_count": 70,
   "id": "d3b6ce6c",
   "metadata": {},
   "outputs": [
    {
     "name": "stdout",
     "output_type": "stream",
     "text": [
      "Max Depth: 15, Max Features: auto, Train_wmpa: 1690.6496710804727, Test_wmpa: 2086.6705452134565\n",
      "Model Score is : 0.9664701819107182\n",
      "Max Depth: 16, Max Features: auto, Train_wmpa: 1415.7839341040974, Test_wmpa: 1891.4372723688473\n",
      "Model Score is : 0.97141222982658\n",
      "Max Depth: 17, Max Features: auto, Train_wmpa: 1206.5008480090137, Test_wmpa: 1760.1184091035584\n",
      "Model Score is : 0.9745309245249161\n",
      "Max Depth: 18, Max Features: auto, Train_wmpa: 1040.781576366015, Test_wmpa: 1669.6798400573182\n",
      "Model Score is : 0.9765260648099566\n",
      "Max Depth: 19, Max Features: auto, Train_wmpa: 909.6925399429406, Test_wmpa: 1609.963333094612\n",
      "Model Score is : 0.9775569616403864\n",
      "Max Depth: 20, Max Features: auto, Train_wmpa: 810.3911565267724, Test_wmpa: 1567.9041100633453\n",
      "Model Score is : 0.9781631857706408\n",
      "Max Depth: 21, Max Features: auto, Train_wmpa: 736.6433116899066, Test_wmpa: 1544.2220291717204\n",
      "Model Score is : 0.9786834568936187\n",
      "Max Depth: 22, Max Features: auto, Train_wmpa: 682.1831710900874, Test_wmpa: 1533.2933849575927\n",
      "Model Score is : 0.9785587419091917\n",
      "Max Depth: 23, Max Features: auto, Train_wmpa: 644.094353661396, Test_wmpa: 1526.8537253262937\n",
      "Model Score is : 0.9785588237107675\n",
      "Max Depth: 24, Max Features: auto, Train_wmpa: 614.7472242133827, Test_wmpa: 1523.0785461327462\n",
      "Model Score is : 0.9786968837242295\n",
      "Max Depth: 25, Max Features: auto, Train_wmpa: 596.1017293051324, Test_wmpa: 1519.0071615989593\n",
      "Model Score is : 0.9790003498770553\n",
      "Max Depth: 26, Max Features: auto, Train_wmpa: 584.6982109335019, Test_wmpa: 1520.8559612599129\n",
      "Model Score is : 0.9786591123918852\n",
      "Max Depth: 27, Max Features: auto, Train_wmpa: 576.7708992855853, Test_wmpa: 1519.8988805901624\n",
      "Model Score is : 0.9787568674353947\n",
      "Max Depth: 28, Max Features: auto, Train_wmpa: 571.3640387110884, Test_wmpa: 1518.6541248153999\n",
      "Model Score is : 0.9789539541730058\n",
      "Max Depth: 29, Max Features: auto, Train_wmpa: 567.8900781898736, Test_wmpa: 1521.4962202792187\n",
      "Model Score is : 0.9787154363789347\n",
      "Max Depth: 30, Max Features: auto, Train_wmpa: 566.9201633510284, Test_wmpa: 1521.1162070276941\n",
      "Model Score is : 0.9786880294081889\n",
      "Max Depth: 31, Max Features: auto, Train_wmpa: 566.98097723613, Test_wmpa: 1518.8776360132351\n",
      "Model Score is : 0.9788069930533901\n",
      "Max Depth: 32, Max Features: auto, Train_wmpa: 565.81849197438, Test_wmpa: 1517.5512643697743\n",
      "Model Score is : 0.9788027263263507\n",
      "Max Depth: 33, Max Features: auto, Train_wmpa: 565.1180323073427, Test_wmpa: 1519.052757319303\n",
      "Model Score is : 0.9787302440784948\n",
      "Max Depth: 34, Max Features: auto, Train_wmpa: 565.616925601227, Test_wmpa: 1518.6577320506958\n",
      "Model Score is : 0.978824864380479\n",
      "Max Depth: 35, Max Features: auto, Train_wmpa: 565.4143143665372, Test_wmpa: 1518.5781978966438\n",
      "Model Score is : 0.9787416964625097\n",
      "Max Depth: 36, Max Features: auto, Train_wmpa: 565.1738266643259, Test_wmpa: 1519.809494067136\n",
      "Model Score is : 0.978780613752351\n",
      "Max Depth: 37, Max Features: auto, Train_wmpa: 565.2621851351214, Test_wmpa: 1518.9309358188016\n",
      "Model Score is : 0.9788621025170424\n",
      "Max Depth: 38, Max Features: auto, Train_wmpa: 565.3485048668007, Test_wmpa: 1518.8764795810557\n",
      "Model Score is : 0.9789015033304784\n",
      "Max Depth: 39, Max Features: auto, Train_wmpa: 565.2530125436866, Test_wmpa: 1518.9454596507935\n",
      "Model Score is : 0.9787927747767431\n",
      "Wall time: 20min 55s\n"
     ]
    }
   ],
   "source": [
    "%%time\n",
    "errors_df_max_depth_rf = pd.DataFrame([test_params_rf(max_depth = md, n_estimators=58) for md in range(15, 40)])"
   ]
  },
  {
   "cell_type": "code",
   "execution_count": 71,
   "id": "177c484b",
   "metadata": {},
   "outputs": [
    {
     "data": {
      "text/plain": [
       "<matplotlib.legend.Legend at 0x1e02fca9a90>"
      ]
     },
     "execution_count": 71,
     "metadata": {},
     "output_type": "execute_result"
    },
    {
     "data": {
      "image/png": "[encoded data removed]",
      "text/plain": [
       "<Figure size 1080x720 with 1 Axes>"
      ]
     },
     "metadata": {
      "needs_background": "light"
     },
     "output_type": "display_data"
    }
   ],
   "source": [
    "plt.figure(figsize=(15,10))\n",
    "plt.plot(errors_df_max_depth_rf['Max Depth'], errors_df_max_depth_rf['Training Error'])\n",
    "plt.plot(errors_df_max_depth_rf['Max Depth'], errors_df_max_depth_rf['Testing Error'])\n",
    "plt.title('Training vs. Testing Error')\n",
    "plt.xticks(np.linspace(15, 40, num=26))\n",
    "plt.xlabel('Max Depth')\n",
    "plt.ylabel('Prediction Error')\n",
    "plt.legend(['Training', 'Testing'])"
   ]
  },
  {
   "cell_type": "markdown",
   "id": "aa473834",
   "metadata": {},
   "source": [
    "<h4>Observations :</h4>\n",
    "<p></p>\n",
    "\n",
    "1. As we see the training and testing error converges it stops towards the end.\n",
    "2. Lets adopt max_depth value as 32.\n",
    "3. We can hypertune more parameters like max_leaf_nodes, alpha etc further in the same fashion."
   ]
  },
  {
   "cell_type": "markdown",
   "id": "5859356f",
   "metadata": {},
   "source": [
    "Lets calculate the coefficient of determination for this value of maximum depth 32."
   ]
  },
  {
   "cell_type": "code",
   "execution_count": 80,
   "id": "2eece630",
   "metadata": {},
   "outputs": [
    {
     "name": "stdout",
     "output_type": "stream",
     "text": [
      "The testing score of the model is : 0.9788027263263507\n",
      "Training WMPA is :  565.81849197438\n",
      "Testing WMPA is :  1517.5512643697743\n"
     ]
    }
   ],
   "source": [
    "# calculating model core test data\n",
    "model_tuned = RandomForestRegressor(n_jobs=-1, random_state=42, max_depth = 32, n_estimators=58)\n",
    "model_tuned.fit(train_inputs, train_targets)\n",
    "print('The testing score of the model is :', model_tuned.score(test_inputs,test_targets))\n",
    "train_wmpa = weighted_absolute_mean_error(train_weights, train_targets.tolist(), model_tuned.predict(train_inputs))\n",
    "test_wmpa = weighted_absolute_mean_error(test_weights_rf, test_targets.tolist(), model_tuned.predict(test_inputs))\n",
    "print('Training WMPA is : ',train_wmpa)\n",
    "print('Testing WMPA is : ',test_wmpa)"
   ]
  },
  {
   "cell_type": "markdown",
   "id": "03f82c4a",
   "metadata": {},
   "source": [
    "<h4>Observations :</h4>\n",
    "<p></p>\n",
    "\n",
    "1. There is a significant improvement when compared to base model\n",
    "2. By doing further we can improve this score to a optimum level."
   ]
  },
  {
   "cell_type": "markdown",
   "id": "dac8f718",
   "metadata": {},
   "source": [
    "<h2>5. Conclusion</h2>\n",
    "<p>As we see the value of WMAE in case of Random Forest is considerably smaller than XG Boost. So we can adopt Random Forest as our model and proceed.</p>"
   ]
  },
  {
   "cell_type": "markdown",
   "id": "bf00b6a0",
   "metadata": {},
   "source": [
    "<h2>6. Predict Output using our model</h2>\n",
    "<p> Let's predict the output for the test data provided in our business problem.</p>\n",
    "<p> Remember! We have also performed EDA on test data before.</p>"
   ]
  },
  {
   "cell_type": "code",
   "execution_count": 73,
   "id": "23ac1113",
   "metadata": {},
   "outputs": [
    {
     "data": {
      "text/html": [
       "<div>\n",
       "<style scoped>\n",
       "    .dataframe tbody tr th:only-of-type {\n",
       "        vertical-align: middle;\n",
       "    }\n",
       "\n",
       "    .dataframe tbody tr th {\n",
       "        vertical-align: top;\n",
       "    }\n",
       "\n",
       "    .dataframe thead th {\n",
       "        text-align: right;\n",
       "    }\n",
       "</style>\n",
       "<table border=\"1\" class=\"dataframe\">\n",
       "  <thead>\n",
       "    <tr style=\"text-align: right;\">\n",
       "      <th></th>\n",
       "      <th>Store</th>\n",
       "      <th>Dept</th>\n",
       "      <th>Temperature</th>\n",
       "      <th>Fuel_Price</th>\n",
       "      <th>CPI</th>\n",
       "      <th>Unemployment</th>\n",
       "      <th>Size</th>\n",
       "      <th>Year</th>\n",
       "      <th>Month</th>\n",
       "      <th>Day</th>\n",
       "      <th>WeekOfYear</th>\n",
       "      <th>IsHoliday_False</th>\n",
       "      <th>IsHoliday_True</th>\n",
       "      <th>Type_A</th>\n",
       "      <th>Type_B</th>\n",
       "      <th>Type_C</th>\n",
       "    </tr>\n",
       "  </thead>\n",
       "  <tbody>\n",
       "    <tr>\n",
       "      <th>0</th>\n",
       "      <td>0.0</td>\n",
       "      <td>0.000000</td>\n",
       "      <td>0.573142</td>\n",
       "      <td>0.410215</td>\n",
       "      <td>0.943588</td>\n",
       "      <td>0.443438</td>\n",
       "      <td>0.630267</td>\n",
       "      <td>0.0</td>\n",
       "      <td>0.909091</td>\n",
       "      <td>0.033333</td>\n",
       "      <td>0.843137</td>\n",
       "      <td>1.0</td>\n",
       "      <td>0.0</td>\n",
       "      <td>1.0</td>\n",
       "      <td>0.0</td>\n",
       "      <td>0.0</td>\n",
       "    </tr>\n",
       "    <tr>\n",
       "      <th>1</th>\n",
       "      <td>0.0</td>\n",
       "      <td>0.010204</td>\n",
       "      <td>0.573142</td>\n",
       "      <td>0.410215</td>\n",
       "      <td>0.943588</td>\n",
       "      <td>0.443438</td>\n",
       "      <td>0.630267</td>\n",
       "      <td>0.0</td>\n",
       "      <td>0.909091</td>\n",
       "      <td>0.033333</td>\n",
       "      <td>0.843137</td>\n",
       "      <td>1.0</td>\n",
       "      <td>0.0</td>\n",
       "      <td>1.0</td>\n",
       "      <td>0.0</td>\n",
       "      <td>0.0</td>\n",
       "    </tr>\n",
       "    <tr>\n",
       "      <th>2</th>\n",
       "      <td>0.0</td>\n",
       "      <td>0.020408</td>\n",
       "      <td>0.573142</td>\n",
       "      <td>0.410215</td>\n",
       "      <td>0.943588</td>\n",
       "      <td>0.443438</td>\n",
       "      <td>0.630267</td>\n",
       "      <td>0.0</td>\n",
       "      <td>0.909091</td>\n",
       "      <td>0.033333</td>\n",
       "      <td>0.843137</td>\n",
       "      <td>1.0</td>\n",
       "      <td>0.0</td>\n",
       "      <td>1.0</td>\n",
       "      <td>0.0</td>\n",
       "      <td>0.0</td>\n",
       "    </tr>\n",
       "    <tr>\n",
       "      <th>3</th>\n",
       "      <td>0.0</td>\n",
       "      <td>0.030612</td>\n",
       "      <td>0.573142</td>\n",
       "      <td>0.410215</td>\n",
       "      <td>0.943588</td>\n",
       "      <td>0.443438</td>\n",
       "      <td>0.630267</td>\n",
       "      <td>0.0</td>\n",
       "      <td>0.909091</td>\n",
       "      <td>0.033333</td>\n",
       "      <td>0.843137</td>\n",
       "      <td>1.0</td>\n",
       "      <td>0.0</td>\n",
       "      <td>1.0</td>\n",
       "      <td>0.0</td>\n",
       "      <td>0.0</td>\n",
       "    </tr>\n",
       "    <tr>\n",
       "      <th>4</th>\n",
       "      <td>0.0</td>\n",
       "      <td>0.040816</td>\n",
       "      <td>0.573142</td>\n",
       "      <td>0.410215</td>\n",
       "      <td>0.943588</td>\n",
       "      <td>0.443438</td>\n",
       "      <td>0.630267</td>\n",
       "      <td>0.0</td>\n",
       "      <td>0.909091</td>\n",
       "      <td>0.033333</td>\n",
       "      <td>0.843137</td>\n",
       "      <td>1.0</td>\n",
       "      <td>0.0</td>\n",
       "      <td>1.0</td>\n",
       "      <td>0.0</td>\n",
       "      <td>0.0</td>\n",
       "    </tr>\n",
       "  </tbody>\n",
       "</table>\n",
       "</div>"
      ],
      "text/plain": [
       "   Store      Dept  Temperature  Fuel_Price       CPI  Unemployment      Size  \\\n",
       "0    0.0  0.000000     0.573142    0.410215  0.943588      0.443438  0.630267   \n",
       "1    0.0  0.010204     0.573142    0.410215  0.943588      0.443438  0.630267   \n",
       "2    0.0  0.020408     0.573142    0.410215  0.943588      0.443438  0.630267   \n",
       "3    0.0  0.030612     0.573142    0.410215  0.943588      0.443438  0.630267   \n",
       "4    0.0  0.040816     0.573142    0.410215  0.943588      0.443438  0.630267   \n",
       "\n",
       "   Year     Month       Day  WeekOfYear  IsHoliday_False  IsHoliday_True  \\\n",
       "0   0.0  0.909091  0.033333    0.843137              1.0             0.0   \n",
       "1   0.0  0.909091  0.033333    0.843137              1.0             0.0   \n",
       "2   0.0  0.909091  0.033333    0.843137              1.0             0.0   \n",
       "3   0.0  0.909091  0.033333    0.843137              1.0             0.0   \n",
       "4   0.0  0.909091  0.033333    0.843137              1.0             0.0   \n",
       "\n",
       "   Type_A  Type_B  Type_C  \n",
       "0     1.0     0.0     0.0  \n",
       "1     1.0     0.0     0.0  \n",
       "2     1.0     0.0     0.0  \n",
       "3     1.0     0.0     0.0  \n",
       "4     1.0     0.0     0.0  "
      ]
     },
     "execution_count": 73,
     "metadata": {},
     "output_type": "execute_result"
    }
   ],
   "source": [
    "test.head()"
   ]
  },
  {
   "cell_type": "code",
   "execution_count": 74,
   "id": "cd8584dd",
   "metadata": {},
   "outputs": [
    {
     "data": {
      "text/plain": [
       "(115064, 16)"
      ]
     },
     "execution_count": 74,
     "metadata": {},
     "output_type": "execute_result"
    }
   ],
   "source": [
    "test.shape"
   ]
  },
  {
   "cell_type": "code",
   "execution_count": 75,
   "id": "08c9b907",
   "metadata": {},
   "outputs": [
    {
     "data": {
      "text/plain": [
       "Store                  0\n",
       "Dept                   0\n",
       "Temperature            0\n",
       "Fuel_Price             0\n",
       "CPI                38162\n",
       "Unemployment       38162\n",
       "Size                   0\n",
       "Year                   0\n",
       "Month                  0\n",
       "Day                    0\n",
       "WeekOfYear             0\n",
       "IsHoliday_False        0\n",
       "IsHoliday_True         0\n",
       "Type_A                 0\n",
       "Type_B                 0\n",
       "Type_C                 0\n",
       "dtype: int64"
      ]
     },
     "execution_count": 75,
     "metadata": {},
     "output_type": "execute_result"
    }
   ],
   "source": [
    "test.isna().sum()"
   ]
  },
  {
   "cell_type": "markdown",
   "id": "7fdbbfa1",
   "metadata": {},
   "source": [
    "<h4>Observations :</h4>\n",
    "<p></p>\n",
    "\n",
    "1. As we see there are significant amount of NaN values in column `CPI` and `Unemployment`.\n",
    "2. We will replace these NaN values with their mean and before feeding it to our model."
   ]
  },
  {
   "cell_type": "code",
   "execution_count": 76,
   "id": "4bcfce8f",
   "metadata": {},
   "outputs": [],
   "source": [
    "test['CPI'].fillna(test['CPI'].mean(), inplace=True)\n",
    "test['Unemployment'].fillna(test['Unemployment'].mean(), inplace=True)"
   ]
  },
  {
   "cell_type": "code",
   "execution_count": 77,
   "id": "eb838a75",
   "metadata": {},
   "outputs": [
    {
     "data": {
      "text/plain": [
       "Store              0\n",
       "Dept               0\n",
       "Temperature        0\n",
       "Fuel_Price         0\n",
       "CPI                0\n",
       "Unemployment       0\n",
       "Size               0\n",
       "Year               0\n",
       "Month              0\n",
       "Day                0\n",
       "WeekOfYear         0\n",
       "IsHoliday_False    0\n",
       "IsHoliday_True     0\n",
       "Type_A             0\n",
       "Type_B             0\n",
       "Type_C             0\n",
       "dtype: int64"
      ]
     },
     "execution_count": 77,
     "metadata": {},
     "output_type": "execute_result"
    }
   ],
   "source": [
    "test.isna().sum()"
   ]
  },
  {
   "cell_type": "code",
   "execution_count": 78,
   "id": "5537cbcd",
   "metadata": {},
   "outputs": [
    {
     "data": {
      "text/plain": [
       "array([32095.85965517, 49750.95724138, 10317.02844828, ...,\n",
       "       53405.52310345,  6071.05534483,   759.26206897])"
      ]
     },
     "execution_count": 78,
     "metadata": {},
     "output_type": "execute_result"
    }
   ],
   "source": [
    "output = model_tuned.predict(test)\n",
    "output"
   ]
  },
  {
   "cell_type": "code",
   "execution_count": 79,
   "id": "e1998eac",
   "metadata": {},
   "outputs": [],
   "source": [
    "sampleSubmission_df['Weekly_Sales'] = output\n",
    "sampleSubmission_df.head()\n",
    "sampleSubmission_df.to_csv('submission.csv',index=False)"
   ]
  }
 ],
 "metadata": {
  "kernelspec": {
   "display_name": "Python 3 (ipykernel)",
   "language": "python",
   "name": "python3"
  },
  "language_info": {
   "codemirror_mode": {
    "name": "ipython",
    "version": 3
   },
   "file_extension": ".py",
   "mimetype": "text/x-python",
   "name": "python",
   "nbconvert_exporter": "python",
   "pygments_lexer": "ipython3",
   "version": "3.9.7"
  }
 },
 "nbformat": 4,
 "nbformat_minor": 5
}
